{
 "cells": [
  {
   "cell_type": "code",
   "execution_count": null,
   "id": "fe45489c",
   "metadata": {
    "id": "HG5EgQziFEHe",
    "papermill": {
     "duration": 0.030187,
     "end_time": "2024-11-16T15:21:49.086426",
     "exception": false,
     "start_time": "2024-11-16T15:21:49.056239",
     "status": "completed"
    },
    "tags": []
   },
   "outputs": [],
   "source": []
  },
  {
   "cell_type": "markdown",
   "id": "a1a07f4a",
   "metadata": {
    "papermill": {
     "duration": 0.026823,
     "end_time": "2024-11-16T15:21:49.140948",
     "exception": false,
     "start_time": "2024-11-16T15:21:49.114125",
     "status": "completed"
    },
    "tags": []
   },
   "source": [
    "**Clone the github repository**"
   ]
  },
  {
   "cell_type": "code",
   "execution_count": 1,
   "id": "8b948d28",
   "metadata": {
    "execution": {
     "iopub.execute_input": "2024-11-16T15:21:49.196749Z",
     "iopub.status.busy": "2024-11-16T15:21:49.196232Z",
     "iopub.status.idle": "2024-11-16T15:21:51.912422Z",
     "shell.execute_reply": "2024-11-16T15:21:51.911460Z"
    },
    "papermill": {
     "duration": 2.74648,
     "end_time": "2024-11-16T15:21:51.914592",
     "exception": false,
     "start_time": "2024-11-16T15:21:49.168112",
     "status": "completed"
    },
    "tags": []
   },
   "outputs": [
    {
     "name": "stdout",
     "output_type": "stream",
     "text": [
      "Cloning into 'mae'...\r\n",
      "remote: Enumerating objects: 39, done.\u001b[K\r\n",
      "remote: Total 39 (delta 0), reused 0 (delta 0), pack-reused 39 (from 1)\u001b[K\r\n",
      "Receiving objects: 100% (39/39), 834.95 KiB | 5.22 MiB/s, done.\r\n",
      "Resolving deltas: 100% (9/9), done.\r\n"
     ]
    }
   ],
   "source": [
    "!rm -rf /kaggle/working/mae\n",
    "!git clone https://github.com/facebookresearch/mae.git"
   ]
  },
  {
   "cell_type": "code",
   "execution_count": 2,
   "id": "f8c694aa",
   "metadata": {
    "execution": {
     "iopub.execute_input": "2024-11-16T15:21:51.983659Z",
     "iopub.status.busy": "2024-11-16T15:21:51.982914Z",
     "iopub.status.idle": "2024-11-16T15:21:53.034436Z",
     "shell.execute_reply": "2024-11-16T15:21:53.033308Z"
    },
    "papermill": {
     "duration": 1.090277,
     "end_time": "2024-11-16T15:21:53.037112",
     "exception": false,
     "start_time": "2024-11-16T15:21:51.946835",
     "status": "completed"
    },
    "tags": []
   },
   "outputs": [
    {
     "name": "stdout",
     "output_type": "stream",
     "text": [
      "__notebook__.ipynb  \u001b[0m\u001b[01;34mmae\u001b[0m/\r\n"
     ]
    }
   ],
   "source": [
    "ls"
   ]
  },
  {
   "cell_type": "code",
   "execution_count": 3,
   "id": "478db3a0",
   "metadata": {
    "execution": {
     "iopub.execute_input": "2024-11-16T15:21:53.098758Z",
     "iopub.status.busy": "2024-11-16T15:21:53.098320Z",
     "iopub.status.idle": "2024-11-16T15:21:53.105212Z",
     "shell.execute_reply": "2024-11-16T15:21:53.104359Z"
    },
    "papermill": {
     "duration": 0.038856,
     "end_time": "2024-11-16T15:21:53.107612",
     "exception": false,
     "start_time": "2024-11-16T15:21:53.068756",
     "status": "completed"
    },
    "tags": []
   },
   "outputs": [
    {
     "name": "stdout",
     "output_type": "stream",
     "text": [
      "/kaggle/working/mae\n"
     ]
    }
   ],
   "source": [
    "cd mae"
   ]
  },
  {
   "cell_type": "code",
   "execution_count": null,
   "id": "600d60cb",
   "metadata": {
    "papermill": {
     "duration": 0.027684,
     "end_time": "2024-11-16T15:21:53.168345",
     "exception": false,
     "start_time": "2024-11-16T15:21:53.140661",
     "status": "completed"
    },
    "tags": []
   },
   "outputs": [],
   "source": []
  },
  {
   "cell_type": "markdown",
   "id": "47984301",
   "metadata": {
    "papermill": {
     "duration": 0.027917,
     "end_time": "2024-11-16T15:21:53.224677",
     "exception": false,
     "start_time": "2024-11-16T15:21:53.196760",
     "status": "completed"
    },
    "tags": []
   },
   "source": [
    "**Installing modules**"
   ]
  },
  {
   "cell_type": "code",
   "execution_count": 4,
   "id": "0c1c5d4e",
   "metadata": {
    "execution": {
     "iopub.execute_input": "2024-11-16T15:21:53.284200Z",
     "iopub.status.busy": "2024-11-16T15:21:53.283437Z",
     "iopub.status.idle": "2024-11-16T15:22:06.902049Z",
     "shell.execute_reply": "2024-11-16T15:22:06.900942Z"
    },
    "papermill": {
     "duration": 13.651327,
     "end_time": "2024-11-16T15:22:06.904508",
     "exception": false,
     "start_time": "2024-11-16T15:21:53.253181",
     "status": "completed"
    },
    "tags": []
   },
   "outputs": [],
   "source": [
    "!pip install transformers datasets torch torchvision torchsummary -q"
   ]
  },
  {
   "cell_type": "code",
   "execution_count": null,
   "id": "6b365cf5",
   "metadata": {
    "papermill": {
     "duration": 0.029051,
     "end_time": "2024-11-16T15:22:06.962769",
     "exception": false,
     "start_time": "2024-11-16T15:22:06.933718",
     "status": "completed"
    },
    "tags": []
   },
   "outputs": [],
   "source": []
  },
  {
   "cell_type": "markdown",
   "id": "8caea675",
   "metadata": {
    "papermill": {
     "duration": 0.029001,
     "end_time": "2024-11-16T15:22:07.021124",
     "exception": false,
     "start_time": "2024-11-16T15:22:06.992123",
     "status": "completed"
    },
    "tags": []
   },
   "source": [
    "**Updating the model architecture**"
   ]
  },
  {
   "cell_type": "code",
   "execution_count": 5,
   "id": "c955cd95",
   "metadata": {
    "execution": {
     "iopub.execute_input": "2024-11-16T15:22:07.078974Z",
     "iopub.status.busy": "2024-11-16T15:22:07.078630Z",
     "iopub.status.idle": "2024-11-16T15:22:07.091280Z",
     "shell.execute_reply": "2024-11-16T15:22:07.090331Z"
    },
    "papermill": {
     "duration": 0.044444,
     "end_time": "2024-11-16T15:22:07.093224",
     "exception": false,
     "start_time": "2024-11-16T15:22:07.048780",
     "status": "completed"
    },
    "tags": []
   },
   "outputs": [
    {
     "name": "stdout",
     "output_type": "stream",
     "text": [
      "Overwriting models_mae.py\n"
     ]
    }
   ],
   "source": [
    "%%writefile \"models_mae.py\"\n",
    "# %load \"models_mae\"\n",
    "# Copyright (c) Meta Platforms, Inc. and affiliates.\n",
    "# All rights reserved.\n",
    "\n",
    "# This source code is licensed under the license found in the\n",
    "# LICENSE file in the root directory of this source tree.\n",
    "# --------------------------------------------------------\n",
    "# References:\n",
    "# timm: https://github.com/rwightman/pytorch-image-models/tree/master/timm\n",
    "# DeiT: https://github.com/facebookresearch/deit\n",
    "# --------------------------------------------------------\n",
    "from functools import partial\n",
    "\n",
    "import torch\n",
    "import torch.nn as nn\n",
    "\n",
    "from timm.models.vision_transformer import PatchEmbed, Block\n",
    "\n",
    "from util.pos_embed import get_2d_sincos_pos_embed\n",
    "\n",
    "\n",
    "class MaskedAutoencoderViT(nn.Module):\n",
    "    \"\"\" Masked Autoencoder with VisionTransformer backbone\n",
    "    \"\"\"\n",
    "    def __init__(self, img_size=224, patch_size=16, in_chans=3,\n",
    "                 embed_dim=1024, depth=24, num_heads=16,\n",
    "                 decoder_embed_dim=512, decoder_depth=8, decoder_num_heads=16,\n",
    "                 mlp_ratio=4., norm_layer=nn.LayerNorm, norm_pix_loss=False):\n",
    "        super().__init__()\n",
    "\n",
    "        # --------------------------------------------------------------------------\n",
    "        # MAE encoder specifics\n",
    "        self.patch_embed = PatchEmbed(img_size, patch_size, in_chans, embed_dim)\n",
    "        num_patches = self.patch_embed.num_patches\n",
    "\n",
    "        self.cls_token = nn.Parameter(torch.zeros(1, 1, embed_dim))\n",
    "        self.pos_embed = nn.Parameter(torch.zeros(1, num_patches + 1, embed_dim), requires_grad=False)  # fixed sin-cos embedding\n",
    "\n",
    "        self.blocks = nn.ModuleList([\n",
    "            Block(embed_dim, num_heads, mlp_ratio, qkv_bias=True, norm_layer=norm_layer)\n",
    "            for i in range(depth)])\n",
    "        self.norm = norm_layer(embed_dim)\n",
    "        # --------------------------------------------------------------------------\n",
    "\n",
    "        # --------------------------------------------------------------------------\n",
    "        # MAE decoder specifics\n",
    "        self.decoder_embed = nn.Linear(embed_dim, decoder_embed_dim, bias=True)\n",
    "\n",
    "        self.mask_token = nn.Parameter(torch.zeros(1, 1, decoder_embed_dim))\n",
    "\n",
    "        self.decoder_pos_embed = nn.Parameter(torch.zeros(1, num_patches + 1, decoder_embed_dim), requires_grad=False)  # fixed sin-cos embedding\n",
    "\n",
    "        self.decoder_blocks = nn.ModuleList([\n",
    "            Block(decoder_embed_dim, decoder_num_heads, mlp_ratio, qkv_bias=True, norm_layer=norm_layer)\n",
    "            for i in range(decoder_depth)])\n",
    "\n",
    "        self.decoder_norm = norm_layer(decoder_embed_dim)\n",
    "        self.decoder_pred = nn.Linear(decoder_embed_dim, patch_size**2 * in_chans, bias=True) # decoder to patch\n",
    "        # --------------------------------------------------------------------------\n",
    "\n",
    "        self.norm_pix_loss = norm_pix_loss\n",
    "\n",
    "        self.initialize_weights()\n",
    "\n",
    "    def initialize_weights(self):\n",
    "        # initialization\n",
    "        # initialize (and freeze) pos_embed by sin-cos embedding\n",
    "        pos_embed = get_2d_sincos_pos_embed(self.pos_embed.shape[-1], int(self.patch_embed.num_patches**.5), cls_token=True)\n",
    "        self.pos_embed.data.copy_(torch.from_numpy(pos_embed).float().unsqueeze(0))\n",
    "\n",
    "        decoder_pos_embed = get_2d_sincos_pos_embed(self.decoder_pos_embed.shape[-1], int(self.patch_embed.num_patches**.5), cls_token=True)\n",
    "        self.decoder_pos_embed.data.copy_(torch.from_numpy(decoder_pos_embed).float().unsqueeze(0))\n",
    "\n",
    "        # initialize patch_embed like nn.Linear (instead of nn.Conv2d)\n",
    "        w = self.patch_embed.proj.weight.data\n",
    "        torch.nn.init.xavier_uniform_(w.view([w.shape[0], -1]))\n",
    "\n",
    "        # timm's trunc_normal_(std=.02) is effectively normal_(std=0.02) as cutoff is too big (2.)\n",
    "        torch.nn.init.normal_(self.cls_token, std=.02)\n",
    "        torch.nn.init.normal_(self.mask_token, std=.02)\n",
    "\n",
    "        # initialize nn.Linear and nn.LayerNorm\n",
    "        self.apply(self._init_weights)\n",
    "\n",
    "    def _init_weights(self, m):\n",
    "        if isinstance(m, nn.Linear):\n",
    "            # we use xavier_uniform following official JAX ViT:\n",
    "            torch.nn.init.xavier_uniform_(m.weight)\n",
    "            if isinstance(m, nn.Linear) and m.bias is not None:\n",
    "                nn.init.constant_(m.bias, 0)\n",
    "        elif isinstance(m, nn.LayerNorm):\n",
    "            nn.init.constant_(m.bias, 0)\n",
    "            nn.init.constant_(m.weight, 1.0)\n",
    "\n",
    "    def patchify(self, imgs):\n",
    "        \"\"\"\n",
    "        imgs: (N, 3, H, W)\n",
    "        x: (N, L, patch_size**2 *3)\n",
    "        \"\"\"\n",
    "        p = self.patch_embed.patch_size[0]\n",
    "        assert imgs.shape[2] == imgs.shape[3] and imgs.shape[2] % p == 0\n",
    "\n",
    "        h = w = imgs.shape[2] // p\n",
    "        x = imgs.reshape(shape=(imgs.shape[0], 3, h, p, w, p))\n",
    "        x = torch.einsum('nchpwq->nhwpqc', x)\n",
    "        x = x.reshape(shape=(imgs.shape[0], h * w, p**2 * 3))\n",
    "        return x\n",
    "\n",
    "    def unpatchify(self, x):\n",
    "        \"\"\"\n",
    "        x: (N, L, patch_size**2 *3)\n",
    "        imgs: (N, 3, H, W)\n",
    "        \"\"\"\n",
    "        p = self.patch_embed.patch_size[0]\n",
    "        h = w = int(x.shape[1]**.5)\n",
    "        assert h * w == x.shape[1]\n",
    "        \n",
    "        x = x.reshape(shape=(x.shape[0], h, w, p, p, 3))\n",
    "        x = torch.einsum('nhwpqc->nchpwq', x)\n",
    "        imgs = x.reshape(shape=(x.shape[0], 3, h * p, h * p))\n",
    "        return imgs\n",
    "\n",
    "    def random_masking(self, x, mask_ratio):\n",
    "        \"\"\"\n",
    "        Perform per-sample random masking by per-sample shuffling.\n",
    "        Per-sample shuffling is done by argsort random noise.\n",
    "        x: [N, L, D], sequence\n",
    "        \"\"\"\n",
    "        N, L, D = x.shape  # batch, length, dim\n",
    "        len_keep = int(L * (1 - mask_ratio))\n",
    "        \n",
    "        noise = torch.rand(N, L, device=x.device)  # noise in [0, 1]\n",
    "        \n",
    "        # sort noise for each sample\n",
    "        ids_shuffle = torch.argsort(noise, dim=1)  # ascend: small is keep, large is remove\n",
    "        ids_restore = torch.argsort(ids_shuffle, dim=1)\n",
    "\n",
    "        # keep the first subset\n",
    "        ids_keep = ids_shuffle[:, :len_keep]\n",
    "        x_masked = torch.gather(x, dim=1, index=ids_keep.unsqueeze(-1).repeat(1, 1, D))\n",
    "\n",
    "        # generate the binary mask: 0 is keep, 1 is remove\n",
    "        mask = torch.ones([N, L], device=x.device)\n",
    "        mask[:, :len_keep] = 0\n",
    "        # unshuffle to get the binary mask\n",
    "        mask = torch.gather(mask, dim=1, index=ids_restore)\n",
    "\n",
    "        return x_masked, mask, ids_restore\n",
    "\n",
    "    def forward_encoder(self, x, mask_ratio):\n",
    "        # embed patches\n",
    "        x = self.patch_embed(x)\n",
    "\n",
    "        # add pos embed w/o cls token\n",
    "        x = x + self.pos_embed[:, 1:, :]\n",
    "\n",
    "        # masking: length -> length * mask_ratio\n",
    "        x, mask, ids_restore = self.random_masking(x, mask_ratio)\n",
    "\n",
    "        # append cls token\n",
    "        cls_token = self.cls_token + self.pos_embed[:, :1, :]\n",
    "        cls_tokens = cls_token.expand(x.shape[0], -1, -1)\n",
    "        x = torch.cat((cls_tokens, x), dim=1)\n",
    "\n",
    "        # apply Transformer blocks\n",
    "        for blk in self.blocks:\n",
    "            x = blk(x)\n",
    "        x = self.norm(x)\n",
    "\n",
    "        return x, mask, ids_restore\n",
    "\n",
    "    def forward_decoder(self, x, ids_restore):\n",
    "        # embed tokens\n",
    "        x = self.decoder_embed(x)\n",
    "\n",
    "        # append mask tokens to sequence\n",
    "        mask_tokens = self.mask_token.repeat(x.shape[0], ids_restore.shape[1] + 1 - x.shape[1], 1)\n",
    "        x_ = torch.cat([x[:, 1:, :], mask_tokens], dim=1)  # no cls token\n",
    "        x_ = torch.gather(x_, dim=1, index=ids_restore.unsqueeze(-1).repeat(1, 1, x.shape[2]))  # unshuffle\n",
    "        x = torch.cat([x[:, :1, :], x_], dim=1)  # append cls token\n",
    "\n",
    "        # add pos embed\n",
    "        x = x + self.decoder_pos_embed\n",
    "\n",
    "        # apply Transformer blocks\n",
    "        for blk in self.decoder_blocks:\n",
    "            x = blk(x)\n",
    "        x = self.decoder_norm(x)\n",
    "\n",
    "        # predictor projection\n",
    "        x = self.decoder_pred(x)\n",
    "\n",
    "        # remove cls token\n",
    "        x = x[:, 1:, :]\n",
    "\n",
    "        return x\n",
    "\n",
    "    def forward_loss(self, imgs, pred, mask):\n",
    "        \"\"\"\n",
    "        imgs: [N, 3, H, W]\n",
    "        pred: [N, L, p*p*3]\n",
    "        mask: [N, L], 0 is keep, 1 is remove, \n",
    "        \"\"\"\n",
    "        target = self.patchify(imgs)\n",
    "        if self.norm_pix_loss:\n",
    "            mean = target.mean(dim=-1, keepdim=True)\n",
    "            var = target.var(dim=-1, keepdim=True)\n",
    "            target = (target - mean) / (var + 1.e-6)**.5\n",
    "\n",
    "        loss = (pred - target) ** 2\n",
    "        loss = loss.mean(dim=-1)  # [N, L], mean loss per patch\n",
    "\n",
    "        loss = (loss * mask).sum() / mask.sum()  # mean loss on removed patches\n",
    "        return loss\n",
    "\n",
    "    def forward(self, imgs, mask_ratio=0.75):\n",
    "        latent, mask, ids_restore = self.forward_encoder(imgs, mask_ratio)\n",
    "        pred = self.forward_decoder(latent, ids_restore)  # [N, L, p*p*3]\n",
    "        loss = self.forward_loss(imgs, pred, mask)\n",
    "        return loss, pred, mask\n",
    "\n",
    "\n",
    "def mae_vit_base_patch16_dec512d8b(**kwargs):\n",
    "    model = MaskedAutoencoderViT(\n",
    "        patch_size=16, embed_dim=768, depth=12, num_heads=12,\n",
    "        decoder_embed_dim=512, decoder_depth=8, decoder_num_heads=16,\n",
    "        mlp_ratio=4, norm_layer=partial(nn.LayerNorm, eps=1e-6), **kwargs)\n",
    "    return model\n",
    "\n",
    "\n",
    "def mae_vit_large_patch16_dec512d8b(**kwargs):\n",
    "    model = MaskedAutoencoderViT(\n",
    "        patch_size=16, embed_dim=1024, depth=24, num_heads=16,\n",
    "        decoder_embed_dim=512, decoder_depth=8, decoder_num_heads=16,\n",
    "        mlp_ratio=4, norm_layer=partial(nn.LayerNorm, eps=1e-6), **kwargs)\n",
    "    return model\n",
    "\n",
    "\n",
    "def mae_vit_huge_patch14_dec512d8b(**kwargs):\n",
    "    model = MaskedAutoencoderViT(\n",
    "        patch_size=14, embed_dim=1280, depth=32, num_heads=16,\n",
    "        decoder_embed_dim=512, decoder_depth=8, decoder_num_heads=16,\n",
    "        mlp_ratio=4, norm_layer=partial(nn.LayerNorm, eps=1e-6), **kwargs)\n",
    "    return model\n",
    "\n",
    "\n",
    "# set recommended archs\n",
    "mae_vit_base_patch16 = mae_vit_base_patch16_dec512d8b  # decoder: 512 dim, 8 blocks\n",
    "mae_vit_large_patch16 = mae_vit_large_patch16_dec512d8b  # decoder: 512 dim, 8 blocks\n",
    "mae_vit_huge_patch14 = mae_vit_huge_patch14_dec512d8b  # decoder: 512 dim, 8 blocks\n"
   ]
  },
  {
   "cell_type": "code",
   "execution_count": null,
   "id": "0016aa6a",
   "metadata": {
    "papermill": {
     "duration": 0.027961,
     "end_time": "2024-11-16T15:22:07.148872",
     "exception": false,
     "start_time": "2024-11-16T15:22:07.120911",
     "status": "completed"
    },
    "tags": []
   },
   "outputs": [],
   "source": []
  },
  {
   "cell_type": "markdown",
   "id": "01fc2b31",
   "metadata": {
    "papermill": {
     "duration": 0.02722,
     "end_time": "2024-11-16T15:22:07.203766",
     "exception": false,
     "start_time": "2024-11-16T15:22:07.176546",
     "status": "completed"
    },
    "tags": []
   },
   "source": [
    "**Updating the embedding code**\n",
    "\n",
    "Conflict due to numpy version change"
   ]
  },
  {
   "cell_type": "code",
   "execution_count": 6,
   "id": "b5f4dc7f",
   "metadata": {
    "execution": {
     "iopub.execute_input": "2024-11-16T15:22:07.261583Z",
     "iopub.status.busy": "2024-11-16T15:22:07.261263Z",
     "iopub.status.idle": "2024-11-16T15:22:07.268724Z",
     "shell.execute_reply": "2024-11-16T15:22:07.267768Z"
    },
    "papermill": {
     "duration": 0.039199,
     "end_time": "2024-11-16T15:22:07.270763",
     "exception": false,
     "start_time": "2024-11-16T15:22:07.231564",
     "status": "completed"
    },
    "tags": []
   },
   "outputs": [
    {
     "name": "stdout",
     "output_type": "stream",
     "text": [
      "Overwriting util/pos_embed.py\n"
     ]
    }
   ],
   "source": [
    "%%writefile \"util/pos_embed.py\"\n",
    "# %load \"util/pos_embed.py\"\n",
    "# Copyright (c) Meta Platforms, Inc. and affiliates.\n",
    "# All rights reserved.\n",
    "\n",
    "# This source code is licensed under the license found in the\n",
    "# LICENSE file in the root directory of this source tree.\n",
    "# --------------------------------------------------------\n",
    "# Position embedding utils\n",
    "# --------------------------------------------------------\n",
    "\n",
    "import numpy as np\n",
    "\n",
    "import torch\n",
    "\n",
    "# --------------------------------------------------------\n",
    "# 2D sine-cosine position embedding\n",
    "# References:\n",
    "# Transformer: https://github.com/tensorflow/models/blob/master/official/nlp/transformer/model_utils.py\n",
    "# MoCo v3: https://github.com/facebookresearch/moco-v3\n",
    "# --------------------------------------------------------\n",
    "def get_2d_sincos_pos_embed(embed_dim, grid_size, cls_token=False):\n",
    "    \"\"\"\n",
    "    grid_size: int of the grid height and width\n",
    "    return:\n",
    "    pos_embed: [grid_size*grid_size, embed_dim] or [1+grid_size*grid_size, embed_dim] (w/ or w/o cls_token)\n",
    "    \"\"\"\n",
    "    grid_h = np.arange(grid_size, dtype=np.float32)\n",
    "    grid_w = np.arange(grid_size, dtype=np.float32)\n",
    "    grid = np.meshgrid(grid_w, grid_h)  # here w goes first\n",
    "    grid = np.stack(grid, axis=0)\n",
    "\n",
    "    grid = grid.reshape([2, 1, grid_size, grid_size])\n",
    "    pos_embed = get_2d_sincos_pos_embed_from_grid(embed_dim, grid)\n",
    "    if cls_token:\n",
    "        pos_embed = np.concatenate([np.zeros([1, embed_dim]), pos_embed], axis=0)\n",
    "    return pos_embed\n",
    "\n",
    "\n",
    "def get_2d_sincos_pos_embed_from_grid(embed_dim, grid):\n",
    "    assert embed_dim % 2 == 0\n",
    "\n",
    "    # use half of dimensions to encode grid_h\n",
    "    emb_h = get_1d_sincos_pos_embed_from_grid(embed_dim // 2, grid[0])  # (H*W, D/2)\n",
    "    emb_w = get_1d_sincos_pos_embed_from_grid(embed_dim // 2, grid[1])  # (H*W, D/2)\n",
    "\n",
    "    emb = np.concatenate([emb_h, emb_w], axis=1) # (H*W, D)\n",
    "    return emb\n",
    "\n",
    "\n",
    "def get_1d_sincos_pos_embed_from_grid(embed_dim, pos):\n",
    "    \"\"\"\n",
    "    embed_dim: output dimension for each position\n",
    "    pos: a list of positions to be encoded: size (M,)\n",
    "    out: (M, D)\n",
    "    \"\"\"\n",
    "    assert embed_dim % 2 == 0\n",
    "    omega = np.arange(embed_dim // 2, dtype=np.float64)\n",
    "    omega /= embed_dim / 2.\n",
    "    omega = 1. / 10000**omega  # (D/2,)\n",
    "\n",
    "    pos = pos.reshape(-1)  # (M,)\n",
    "    out = np.einsum('m,d->md', pos, omega)  # (M, D/2), outer product\n",
    "\n",
    "    emb_sin = np.sin(out) # (M, D/2)\n",
    "    emb_cos = np.cos(out) # (M, D/2)\n",
    "\n",
    "    emb = np.concatenate([emb_sin, emb_cos], axis=1)  # (M, D)\n",
    "    return emb\n",
    "\n",
    "\n",
    "# --------------------------------------------------------\n",
    "# Interpolate position embeddings for high-resolution\n",
    "# References:\n",
    "# DeiT: https://github.com/facebookresearch/deit\n",
    "# --------------------------------------------------------\n",
    "def interpolate_pos_embed(model, checkpoint_model):\n",
    "    if 'pos_embed' in checkpoint_model:\n",
    "        pos_embed_checkpoint = checkpoint_model['pos_embed']\n",
    "        embedding_size = pos_embed_checkpoint.shape[-1]\n",
    "        num_patches = model.patch_embed.num_patches\n",
    "        num_extra_tokens = model.pos_embed.shape[-2] - num_patches\n",
    "        # height (== width) for the checkpoint position embedding\n",
    "        orig_size = int((pos_embed_checkpoint.shape[-2] - num_extra_tokens) ** 0.5)\n",
    "        # height (== width) for the new position embedding\n",
    "        new_size = int(num_patches ** 0.5)\n",
    "        # class_token and dist_token are kept unchanged\n",
    "        if orig_size != new_size:\n",
    "            print(\"Position interpolate from %dx%d to %dx%d\" % (orig_size, orig_size, new_size, new_size))\n",
    "            extra_tokens = pos_embed_checkpoint[:, :num_extra_tokens]\n",
    "            # only the position tokens are interpolated\n",
    "            pos_tokens = pos_embed_checkpoint[:, num_extra_tokens:]\n",
    "            pos_tokens = pos_tokens.reshape(-1, orig_size, orig_size, embedding_size).permute(0, 3, 1, 2)\n",
    "            pos_tokens = torch.nn.functional.interpolate(\n",
    "                pos_tokens, size=(new_size, new_size), mode='bicubic', align_corners=False)\n",
    "            pos_tokens = pos_tokens.permute(0, 2, 3, 1).flatten(1, 2)\n",
    "            new_pos_embed = torch.cat((extra_tokens, pos_tokens), dim=1)\n",
    "            checkpoint_model['pos_embed'] = new_pos_embed\n"
   ]
  },
  {
   "cell_type": "code",
   "execution_count": null,
   "id": "509a6ff1",
   "metadata": {
    "papermill": {
     "duration": 0.028252,
     "end_time": "2024-11-16T15:22:07.327092",
     "exception": false,
     "start_time": "2024-11-16T15:22:07.298840",
     "status": "completed"
    },
    "tags": []
   },
   "outputs": [],
   "source": []
  },
  {
   "cell_type": "markdown",
   "id": "0ecbedbb",
   "metadata": {
    "id": "3w9frd0JQsQh",
    "papermill": {
     "duration": 0.027528,
     "end_time": "2024-11-16T15:22:07.382786",
     "exception": false,
     "start_time": "2024-11-16T15:22:07.355258",
     "status": "completed"
    },
    "tags": []
   },
   "source": [
    "**Unzip the dataset**"
   ]
  },
  {
   "cell_type": "code",
   "execution_count": 7,
   "id": "4fd431d0",
   "metadata": {
    "execution": {
     "iopub.execute_input": "2024-11-16T15:22:07.439558Z",
     "iopub.status.busy": "2024-11-16T15:22:07.438958Z",
     "iopub.status.idle": "2024-11-16T15:22:07.442713Z",
     "shell.execute_reply": "2024-11-16T15:22:07.441852Z"
    },
    "id": "95AulVMuQnGL",
    "outputId": "bebc6348-8fd4-4f8e-ecb9-3d32305bc0f9",
    "papermill": {
     "duration": 0.034048,
     "end_time": "2024-11-16T15:22:07.444587",
     "exception": false,
     "start_time": "2024-11-16T15:22:07.410539",
     "status": "completed"
    },
    "tags": []
   },
   "outputs": [],
   "source": [
    "# !mkdir -p samples\n",
    "# !unzip samples.zip -d samples/"
   ]
  },
  {
   "cell_type": "code",
   "execution_count": null,
   "id": "229e9a7d",
   "metadata": {
    "id": "2QJIqC7tFgQM",
    "papermill": {
     "duration": 0.027597,
     "end_time": "2024-11-16T15:22:07.499995",
     "exception": false,
     "start_time": "2024-11-16T15:22:07.472398",
     "status": "completed"
    },
    "tags": []
   },
   "outputs": [],
   "source": []
  },
  {
   "cell_type": "markdown",
   "id": "529d54fe",
   "metadata": {
    "id": "TO1myXoXFown",
    "papermill": {
     "duration": 0.062965,
     "end_time": "2024-11-16T15:22:07.590436",
     "exception": false,
     "start_time": "2024-11-16T15:22:07.527471",
     "status": "completed"
    },
    "tags": []
   },
   "source": [
    "**Importing modules**"
   ]
  },
  {
   "cell_type": "code",
   "execution_count": 8,
   "id": "81da2f52",
   "metadata": {
    "execution": {
     "iopub.execute_input": "2024-11-16T15:22:07.647645Z",
     "iopub.status.busy": "2024-11-16T15:22:07.646963Z",
     "iopub.status.idle": "2024-11-16T15:22:33.791224Z",
     "shell.execute_reply": "2024-11-16T15:22:33.790239Z"
    },
    "id": "Clrb_1KnFqBO",
    "outputId": "c920699a-6bea-4e24-867b-2713a65a649c",
    "papermill": {
     "duration": 26.175513,
     "end_time": "2024-11-16T15:22:33.793686",
     "exception": false,
     "start_time": "2024-11-16T15:22:07.618173",
     "status": "completed"
    },
    "tags": []
   },
   "outputs": [],
   "source": [
    "import os\n",
    "import time\n",
    "import seaborn as sns\n",
    "from matplotlib import pyplot as plt\n",
    "from PIL import Image\n",
    "from tqdm import tqdm\n",
    "\n",
    "import timm\n",
    "import torch\n",
    "import torch.nn as nn\n",
    "from torchsummary import summary\n",
    "from torch.optim import Adam\n",
    "from torch.utils.data import DataLoader\n",
    "from torchvision import datasets, transforms\n",
    "\n",
    "from torch.optim.lr_scheduler import ReduceLROnPlateau\n",
    "\n",
    "from transformers import ViTMAEModel\n",
    "from transformers import AutoImageProcessor, ViTMAEForPreTraining, Trainer, TrainingArguments, ViTImageProcessor, ViTForImageClassification\n",
    "\n",
    "from sklearn.metrics import confusion_matrix, classification_report, precision_score, recall_score, f1_score\n",
    "import models_mae"
   ]
  },
  {
   "cell_type": "code",
   "execution_count": null,
   "id": "c394ec31",
   "metadata": {
    "id": "hWHtZpvgFuG3",
    "papermill": {
     "duration": 0.027519,
     "end_time": "2024-11-16T15:22:33.849944",
     "exception": false,
     "start_time": "2024-11-16T15:22:33.822425",
     "status": "completed"
    },
    "tags": []
   },
   "outputs": [],
   "source": []
  },
  {
   "cell_type": "markdown",
   "id": "8b4a0e52",
   "metadata": {
    "id": "7BiwWSJpGK9G",
    "papermill": {
     "duration": 0.027613,
     "end_time": "2024-11-16T15:22:33.905503",
     "exception": false,
     "start_time": "2024-11-16T15:22:33.877890",
     "status": "completed"
    },
    "tags": []
   },
   "source": [
    "**Path to data**"
   ]
  },
  {
   "cell_type": "code",
   "execution_count": 9,
   "id": "759e26a3",
   "metadata": {
    "execution": {
     "iopub.execute_input": "2024-11-16T15:22:33.962584Z",
     "iopub.status.busy": "2024-11-16T15:22:33.961883Z",
     "iopub.status.idle": "2024-11-16T15:22:33.966651Z",
     "shell.execute_reply": "2024-11-16T15:22:33.965751Z"
    },
    "id": "HqZ1Ub2uGKTF",
    "papermill": {
     "duration": 0.035298,
     "end_time": "2024-11-16T15:22:33.968632",
     "exception": false,
     "start_time": "2024-11-16T15:22:33.933334",
     "status": "completed"
    },
    "tags": []
   },
   "outputs": [],
   "source": [
    "root_path = \"/kaggle/input/fire-risk-all-samples/FireRisk\"\n",
    "train_path = root_path + \"/train/\"\n",
    "val_path = root_path + \"/val\""
   ]
  },
  {
   "cell_type": "code",
   "execution_count": null,
   "id": "a2abbb4e",
   "metadata": {
    "id": "vftE0Zm1GOXh",
    "papermill": {
     "duration": 0.027205,
     "end_time": "2024-11-16T15:22:34.023284",
     "exception": false,
     "start_time": "2024-11-16T15:22:33.996079",
     "status": "completed"
    },
    "tags": []
   },
   "outputs": [],
   "source": []
  },
  {
   "cell_type": "markdown",
   "id": "7f362f8f",
   "metadata": {
    "papermill": {
     "duration": 0.02943,
     "end_time": "2024-11-16T15:22:34.080870",
     "exception": false,
     "start_time": "2024-11-16T15:22:34.051440",
     "status": "completed"
    },
    "tags": []
   },
   "source": [
    "**Use the checkpoints of firerisk**"
   ]
  },
  {
   "cell_type": "code",
   "execution_count": 10,
   "id": "a6f5ee16",
   "metadata": {
    "execution": {
     "iopub.execute_input": "2024-11-16T15:22:34.138402Z",
     "iopub.status.busy": "2024-11-16T15:22:34.138053Z",
     "iopub.status.idle": "2024-11-16T15:22:34.143222Z",
     "shell.execute_reply": "2024-11-16T15:22:34.142374Z"
    },
    "papermill": {
     "duration": 0.036027,
     "end_time": "2024-11-16T15:22:34.145252",
     "exception": false,
     "start_time": "2024-11-16T15:22:34.109225",
     "status": "completed"
    },
    "tags": []
   },
   "outputs": [],
   "source": [
    "def prepare_model(chkpt_dir, arch='mae_vit_base_patch16'):\n",
    "    # build model\n",
    "    model = getattr(models_mae, arch)()\n",
    "    # load model\n",
    "    checkpoint = torch.load(chkpt_dir, map_location='cpu')\n",
    "    #print(checkpoint)\n",
    "    msg = model.load_state_dict(checkpoint['model'], strict=False)\n",
    "    return model"
   ]
  },
  {
   "cell_type": "code",
   "execution_count": null,
   "id": "77bbd51c",
   "metadata": {
    "papermill": {
     "duration": 0.027934,
     "end_time": "2024-11-16T15:22:34.200818",
     "exception": false,
     "start_time": "2024-11-16T15:22:34.172884",
     "status": "completed"
    },
    "tags": []
   },
   "outputs": [],
   "source": []
  },
  {
   "cell_type": "markdown",
   "id": "ba4467c4",
   "metadata": {
    "id": "I4bUZDQxGbDz",
    "papermill": {
     "duration": 0.028507,
     "end_time": "2024-11-16T15:22:34.257227",
     "exception": false,
     "start_time": "2024-11-16T15:22:34.228720",
     "status": "completed"
    },
    "tags": []
   },
   "source": [
    "**Load the MAE model**\n",
    "\n",
    "This was trained on Firerisk dataset"
   ]
  },
  {
   "cell_type": "code",
   "execution_count": 11,
   "id": "e891078f",
   "metadata": {
    "execution": {
     "iopub.execute_input": "2024-11-16T15:22:34.315010Z",
     "iopub.status.busy": "2024-11-16T15:22:34.314674Z",
     "iopub.status.idle": "2024-11-16T15:22:42.728705Z",
     "shell.execute_reply": "2024-11-16T15:22:42.727672Z"
    },
    "id": "gNBtvigTGSOd",
    "outputId": "29b0794a-ac05-47eb-b0ad-66b213c46dde",
    "papermill": {
     "duration": 8.44543,
     "end_time": "2024-11-16T15:22:42.731451",
     "exception": false,
     "start_time": "2024-11-16T15:22:34.286021",
     "status": "completed"
    },
    "tags": []
   },
   "outputs": [
    {
     "name": "stderr",
     "output_type": "stream",
     "text": [
      "/tmp/ipykernel_23/2232327184.py:5: FutureWarning: You are using `torch.load` with `weights_only=False` (the current default value), which uses the default pickle module implicitly. It is possible to construct malicious pickle data which will execute arbitrary code during unpickling (See https://github.com/pytorch/pytorch/blob/main/SECURITY.md#untrusted-models for more details). In a future release, the default value for `weights_only` will be flipped to `True`. This limits the functions that could be executed during unpickling. Arbitrary objects will no longer be allowed to be loaded via this mode unless they are explicitly allowlisted by the user via `torch.serialization.add_safe_globals`. We recommend you start setting `weights_only=True` for any use case where you don't have full control of the loaded file. Please open an issue on GitHub for any issues related to this experimental feature.\n",
      "  checkpoint = torch.load(chkpt_dir, map_location='cpu')\n"
     ]
    }
   ],
   "source": [
    "# Load the ViTMAE model\n",
    "#image_processor = ViTImageProcessor.from_pretrained(\"facebook/vit-mae-base\")\n",
    "vitmae = prepare_model(\"/kaggle/input/mm/pytorch/default/1/MAE_ImageNet1k.pth\")"
   ]
  },
  {
   "cell_type": "code",
   "execution_count": null,
   "id": "eaf72e60",
   "metadata": {
    "papermill": {
     "duration": 0.030486,
     "end_time": "2024-11-16T15:22:42.797117",
     "exception": false,
     "start_time": "2024-11-16T15:22:42.766631",
     "status": "completed"
    },
    "tags": []
   },
   "outputs": [],
   "source": []
  },
  {
   "cell_type": "markdown",
   "id": "ac2a52ed",
   "metadata": {
    "id": "Rud5aPjh0NH6",
    "papermill": {
     "duration": 0.027626,
     "end_time": "2024-11-16T15:22:42.852455",
     "exception": false,
     "start_time": "2024-11-16T15:22:42.824829",
     "status": "completed"
    },
    "tags": []
   },
   "source": [
    "**Load the VIT model**\n",
    "\n",
    "This model was traiend on Eurosat dataset"
   ]
  },
  {
   "cell_type": "code",
   "execution_count": 12,
   "id": "34e5a0da",
   "metadata": {
    "execution": {
     "iopub.execute_input": "2024-11-16T15:22:42.911490Z",
     "iopub.status.busy": "2024-11-16T15:22:42.910559Z",
     "iopub.status.idle": "2024-11-16T15:22:42.918274Z",
     "shell.execute_reply": "2024-11-16T15:22:42.917321Z"
    },
    "papermill": {
     "duration": 0.040001,
     "end_time": "2024-11-16T15:22:42.920549",
     "exception": false,
     "start_time": "2024-11-16T15:22:42.880548",
     "status": "completed"
    },
    "tags": []
   },
   "outputs": [
    {
     "data": {
      "text/plain": [
       "'1.0.9'"
      ]
     },
     "execution_count": 12,
     "metadata": {},
     "output_type": "execute_result"
    }
   ],
   "source": [
    "timm.__version__"
   ]
  },
  {
   "cell_type": "code",
   "execution_count": 13,
   "id": "68bc414e",
   "metadata": {
    "execution": {
     "iopub.execute_input": "2024-11-16T15:22:42.983816Z",
     "iopub.status.busy": "2024-11-16T15:22:42.983508Z",
     "iopub.status.idle": "2024-11-16T15:22:53.103001Z",
     "shell.execute_reply": "2024-11-16T15:22:53.102180Z"
    },
    "id": "pl6nXS4Q0M5U",
    "papermill": {
     "duration": 10.153026,
     "end_time": "2024-11-16T15:22:53.105157",
     "exception": false,
     "start_time": "2024-11-16T15:22:42.952131",
     "status": "completed"
    },
    "tags": []
   },
   "outputs": [
    {
     "data": {
      "application/vnd.jupyter.widget-view+json": {
       "model_id": "c5fe644649f04bebb153a6a6c96a3616",
       "version_major": 2,
       "version_minor": 0
      },
      "text/plain": [
       "config.json:   0%|          | 0.00/829 [00:00<?, ?B/s]"
      ]
     },
     "metadata": {},
     "output_type": "display_data"
    },
    {
     "data": {
      "application/vnd.jupyter.widget-view+json": {
       "model_id": "76cb45d82f024dfa99ccc8b22744749f",
       "version_major": 2,
       "version_minor": 0
      },
      "text/plain": [
       "model.safetensors:   0%|          | 0.00/343M [00:00<?, ?B/s]"
      ]
     },
     "metadata": {},
     "output_type": "display_data"
    }
   ],
   "source": [
    "viteuro = timm.create_model(\"hf_hub:cm93/vit-base-patch16-224-eurosat\", pretrained=True)"
   ]
  },
  {
   "cell_type": "code",
   "execution_count": null,
   "id": "2ce3a735",
   "metadata": {
    "id": "SQec47mhMTH0",
    "papermill": {
     "duration": 0.028818,
     "end_time": "2024-11-16T15:22:53.165253",
     "exception": false,
     "start_time": "2024-11-16T15:22:53.136435",
     "status": "completed"
    },
    "tags": []
   },
   "outputs": [],
   "source": []
  },
  {
   "cell_type": "markdown",
   "id": "0343ca94",
   "metadata": {
    "id": "hSFyhtH7MPyD",
    "papermill": {
     "duration": 0.028226,
     "end_time": "2024-11-16T15:22:53.222228",
     "exception": false,
     "start_time": "2024-11-16T15:22:53.194002",
     "status": "completed"
    },
    "tags": []
   },
   "source": [
    "**Freeze the model weights**"
   ]
  },
  {
   "cell_type": "code",
   "execution_count": 14,
   "id": "23164c85",
   "metadata": {
    "execution": {
     "iopub.execute_input": "2024-11-16T15:22:53.285160Z",
     "iopub.status.busy": "2024-11-16T15:22:53.284219Z",
     "iopub.status.idle": "2024-11-16T15:22:53.291727Z",
     "shell.execute_reply": "2024-11-16T15:22:53.290780Z"
    },
    "id": "faw6K1uaMGZk",
    "papermill": {
     "duration": 0.041425,
     "end_time": "2024-11-16T15:22:53.293800",
     "exception": false,
     "start_time": "2024-11-16T15:22:53.252375",
     "status": "completed"
    },
    "tags": []
   },
   "outputs": [],
   "source": [
    "# Freeze the ViTMAE model parameters\n",
    "for param in vitmae.parameters():\n",
    "    param.requires_grad = False"
   ]
  },
  {
   "cell_type": "code",
   "execution_count": 15,
   "id": "c50e9fa7",
   "metadata": {
    "execution": {
     "iopub.execute_input": "2024-11-16T15:22:53.355292Z",
     "iopub.status.busy": "2024-11-16T15:22:53.354583Z",
     "iopub.status.idle": "2024-11-16T15:22:53.359800Z",
     "shell.execute_reply": "2024-11-16T15:22:53.358959Z"
    },
    "id": "oh404Sx_0tw-",
    "papermill": {
     "duration": 0.036794,
     "end_time": "2024-11-16T15:22:53.361628",
     "exception": false,
     "start_time": "2024-11-16T15:22:53.324834",
     "status": "completed"
    },
    "tags": []
   },
   "outputs": [],
   "source": [
    "# Freeze the ViTMAE model parameters\n",
    "for param in viteuro.parameters():\n",
    "    param.requires_grad = False"
   ]
  },
  {
   "cell_type": "code",
   "execution_count": null,
   "id": "0876e199",
   "metadata": {
    "id": "H3svAd59MLli",
    "papermill": {
     "duration": 0.028382,
     "end_time": "2024-11-16T15:22:53.418157",
     "exception": false,
     "start_time": "2024-11-16T15:22:53.389775",
     "status": "completed"
    },
    "tags": []
   },
   "outputs": [],
   "source": []
  },
  {
   "cell_type": "markdown",
   "id": "071c0f26",
   "metadata": {
    "papermill": {
     "duration": 0.028975,
     "end_time": "2024-11-16T15:22:53.475704",
     "exception": false,
     "start_time": "2024-11-16T15:22:53.446729",
     "status": "completed"
    },
    "tags": []
   },
   "source": [
    "**Dataset Visualization**"
   ]
  },
  {
   "cell_type": "code",
   "execution_count": 16,
   "id": "5dc68641",
   "metadata": {
    "execution": {
     "iopub.execute_input": "2024-11-16T15:22:53.533952Z",
     "iopub.status.busy": "2024-11-16T15:22:53.533173Z",
     "iopub.status.idle": "2024-11-16T15:22:53.537178Z",
     "shell.execute_reply": "2024-11-16T15:22:53.536348Z"
    },
    "id": "GaR1axLJGhIs",
    "outputId": "e3178c47-9764-459f-ead7-c9fde56538a8",
    "papermill": {
     "duration": 0.035012,
     "end_time": "2024-11-16T15:22:53.538996",
     "exception": false,
     "start_time": "2024-11-16T15:22:53.503984",
     "status": "completed"
    },
    "tags": []
   },
   "outputs": [],
   "source": [
    "# sample_img = Image.open(train_path + \"High/27032281_4_-103.430441201095_44.2804260315038.png\")\n",
    "# plt.imshow(sample_img)"
   ]
  },
  {
   "cell_type": "code",
   "execution_count": null,
   "id": "ecc1b90f",
   "metadata": {
    "id": "e2xc2KdWGk2h",
    "papermill": {
     "duration": 0.027841,
     "end_time": "2024-11-16T15:22:53.594854",
     "exception": false,
     "start_time": "2024-11-16T15:22:53.567013",
     "status": "completed"
    },
    "tags": []
   },
   "outputs": [],
   "source": []
  },
  {
   "cell_type": "markdown",
   "id": "63e4061f",
   "metadata": {
    "id": "NkkBHoW5HSr9",
    "papermill": {
     "duration": 0.027792,
     "end_time": "2024-11-16T15:22:53.650753",
     "exception": false,
     "start_time": "2024-11-16T15:22:53.622961",
     "status": "completed"
    },
    "tags": []
   },
   "source": [
    "**Load dataset**"
   ]
  },
  {
   "cell_type": "code",
   "execution_count": 17,
   "id": "5e739a4c",
   "metadata": {
    "execution": {
     "iopub.execute_input": "2024-11-16T15:22:53.708678Z",
     "iopub.status.busy": "2024-11-16T15:22:53.707914Z",
     "iopub.status.idle": "2024-11-16T15:24:55.701622Z",
     "shell.execute_reply": "2024-11-16T15:24:55.700739Z"
    },
    "id": "uUOeLfWPHGzX",
    "papermill": {
     "duration": 122.025389,
     "end_time": "2024-11-16T15:24:55.704210",
     "exception": false,
     "start_time": "2024-11-16T15:22:53.678821",
     "status": "completed"
    },
    "tags": []
   },
   "outputs": [],
   "source": [
    "# 3. Data Transformations\n",
    "train_transform = transforms.Compose([\n",
    "    transforms.RandomHorizontalFlip(p=0.5),  # Randomly flip images horizontally\n",
    "    transforms.RandomRotation(15),          # Random rotation within ±15 degrees\n",
    "    transforms.RandomResizedCrop(224, scale=(0.8, 1.0)),  # Random crop and resize to 224x224\n",
    "    transforms.ColorJitter(brightness=0.2, contrast=0.2, saturation=0.2, hue=0.1),  # Random changes in brightness, contrast, etc.\n",
    "    transforms.ToTensor(),                  # Convert to tensor\n",
    "    transforms.Normalize((0.5, 0.5, 0.5), (0.5, 0.5, 0.5)),  # Normalize\n",
    "])\n",
    "\n",
    "val_transform = transforms.Compose([\n",
    "    transforms.Resize((224, 224)),          # Resize to 224x224\n",
    "    transforms.ToTensor(),                  # Convert to tensor\n",
    "    transforms.Normalize((0.5, 0.5, 0.5), (0.5, 0.5, 0.5)),  # Normalize\n",
    "])\n",
    "\n",
    "# 4. Load Dataset using ImageFolder\n",
    "train_dataset = datasets.ImageFolder(root=train_path, transform=train_transform)\n",
    "val_dataset = datasets.ImageFolder(root=val_path, transform=val_transform)\n",
    "\n",
    "# training data loaders\n",
    "train_loader = DataLoader(train_dataset, batch_size=64, shuffle=True)\n",
    "# validation data loaders\n",
    "valid_loader = DataLoader(val_dataset, batch_size=64, shuffle=False)\n",
    "\n",
    "# 5. Training Setup for Trainer API\n",
    "device = torch.device(\"cuda:0\" if torch.cuda.is_available() else \"cpu\")\n"
   ]
  },
  {
   "cell_type": "code",
   "execution_count": null,
   "id": "8b01ee62",
   "metadata": {
    "id": "aK6D2rMZHVDn",
    "papermill": {
     "duration": 0.028117,
     "end_time": "2024-11-16T15:24:55.761159",
     "exception": false,
     "start_time": "2024-11-16T15:24:55.733042",
     "status": "completed"
    },
    "tags": []
   },
   "outputs": [],
   "source": []
  },
  {
   "cell_type": "markdown",
   "id": "64ee1f34",
   "metadata": {
    "id": "FcATgPKWZH2d",
    "papermill": {
     "duration": 0.028434,
     "end_time": "2024-11-16T15:24:55.817650",
     "exception": false,
     "start_time": "2024-11-16T15:24:55.789216",
     "status": "completed"
    },
    "tags": []
   },
   "source": [
    "**Label names**"
   ]
  },
  {
   "cell_type": "code",
   "execution_count": 18,
   "id": "2bb8ddea",
   "metadata": {
    "execution": {
     "iopub.execute_input": "2024-11-16T15:24:55.875418Z",
     "iopub.status.busy": "2024-11-16T15:24:55.875003Z",
     "iopub.status.idle": "2024-11-16T15:24:55.879327Z",
     "shell.execute_reply": "2024-11-16T15:24:55.878567Z"
    },
    "id": "dON-WMSzZGnR",
    "papermill": {
     "duration": 0.03533,
     "end_time": "2024-11-16T15:24:55.881218",
     "exception": false,
     "start_time": "2024-11-16T15:24:55.845888",
     "status": "completed"
    },
    "tags": []
   },
   "outputs": [],
   "source": [
    "label_names = train_dataset.classes"
   ]
  },
  {
   "cell_type": "code",
   "execution_count": null,
   "id": "1c775920",
   "metadata": {
    "id": "HPHcxyQ1ZJq5",
    "papermill": {
     "duration": 0.028429,
     "end_time": "2024-11-16T15:24:55.937785",
     "exception": false,
     "start_time": "2024-11-16T15:24:55.909356",
     "status": "completed"
    },
    "tags": []
   },
   "outputs": [],
   "source": []
  },
  {
   "cell_type": "markdown",
   "id": "ebc3192f",
   "metadata": {
    "id": "PIAoeVR-I7AC",
    "papermill": {
     "duration": 0.028802,
     "end_time": "2024-11-16T15:24:55.994644",
     "exception": false,
     "start_time": "2024-11-16T15:24:55.965842",
     "status": "completed"
    },
    "tags": []
   },
   "source": [
    "**Define the model**"
   ]
  },
  {
   "cell_type": "code",
   "execution_count": 19,
   "id": "53fed9be",
   "metadata": {
    "execution": {
     "iopub.execute_input": "2024-11-16T15:24:56.052434Z",
     "iopub.status.busy": "2024-11-16T15:24:56.052068Z",
     "iopub.status.idle": "2024-11-16T15:24:56.061720Z",
     "shell.execute_reply": "2024-11-16T15:24:56.060796Z"
    },
    "id": "5bybXJ3VI6vK",
    "papermill": {
     "duration": 0.041074,
     "end_time": "2024-11-16T15:24:56.063650",
     "exception": false,
     "start_time": "2024-11-16T15:24:56.022576",
     "status": "completed"
    },
    "tags": []
   },
   "outputs": [],
   "source": [
    "# Define the Custom ViT Model with additional layers\n",
    "class CustomViTModel(nn.Module):\n",
    "    def __init__(self, vitmae, viteuro, num_classes=7):\n",
    "        super(CustomViTModel, self).__init__()\n",
    "\n",
    "        self.vitmae_embeddings = vitmae.patch_embed\n",
    "        self.vitmae_encoder = vitmae.blocks\n",
    "\n",
    "        self.embeddings_eurosat = viteuro.patch_embed\n",
    "        self.encoder_eurosat = viteuro.blocks\n",
    "\n",
    "        # LayerNorm for concatenated features\n",
    "        self.layer_norm = nn.LayerNorm(768 * 2)\n",
    "\n",
    "        # Additional layers for classification\n",
    "        self.additional_layers = nn.Sequential(\n",
    "            nn.LayerNorm(768*2),\n",
    "            nn.Linear(768*2, 768),\n",
    "            nn.ReLU(),\n",
    "            nn.Linear(768, 512),\n",
    "            nn.ReLU(),\n",
    "            nn.Linear(512, num_classes),\n",
    "        )\n",
    "\n",
    "    def forward(self, pixel_values):\n",
    "        # Extract embeddings and encoder outputs from ViT-MAE\n",
    "        vitmae_embeddings = self.vitmae_embeddings(pixel_values)\n",
    "        for block in self.vitmae_encoder:\n",
    "            vitmae_embeddings = block(vitmae_embeddings)\n",
    "        hidden_states_vitmae = vitmae_embeddings[:, 0, :]\n",
    "        # vit_encoder_outputs = self.vitmae_encoder(vitmae_embeddings)\n",
    "        # hidden_states_vitmae = vit_encoder_outputs.last_hidden_state[:, 0, :]\n",
    "\n",
    "        # Extract embeddings and encoder outputs from EuroSAT\n",
    "        embeddings_eurosat = self.embeddings_eurosat(pixel_values)\n",
    "        for block in self.encoder_eurosat:\n",
    "            embeddings_eurosat = block(embeddings_eurosat)\n",
    "        hidden_states_eurosat = embeddings_eurosat[:, 0, :]\n",
    "\n",
    "        # Concatenate the hidden states from both models\n",
    "        fused_features = torch.cat((hidden_states_vitmae, hidden_states_eurosat), dim=1)\n",
    "\n",
    "        # Apply LayerNorm and pass through additional layers\n",
    "        fused_features = self.layer_norm(fused_features)\n",
    "        output = self.additional_layers(fused_features)\n",
    "        return output"
   ]
  },
  {
   "cell_type": "code",
   "execution_count": 20,
   "id": "24421f5f",
   "metadata": {
    "execution": {
     "iopub.execute_input": "2024-11-16T15:24:56.121025Z",
     "iopub.status.busy": "2024-11-16T15:24:56.120672Z",
     "iopub.status.idle": "2024-11-16T15:24:56.547642Z",
     "shell.execute_reply": "2024-11-16T15:24:56.546565Z"
    },
    "id": "PhfbhE91I-KR",
    "papermill": {
     "duration": 0.458453,
     "end_time": "2024-11-16T15:24:56.550124",
     "exception": false,
     "start_time": "2024-11-16T15:24:56.091671",
     "status": "completed"
    },
    "tags": []
   },
   "outputs": [],
   "source": [
    "custom_model = CustomViTModel(vitmae, viteuro, num_classes=7)\n",
    "custom_model = nn.DataParallel(custom_model, device_ids=[0, 1]).to(device)"
   ]
  },
  {
   "cell_type": "code",
   "execution_count": null,
   "id": "d4265e88",
   "metadata": {
    "id": "e1cTZ4RjJIZv",
    "papermill": {
     "duration": 0.028451,
     "end_time": "2024-11-16T15:24:56.608036",
     "exception": false,
     "start_time": "2024-11-16T15:24:56.579585",
     "status": "completed"
    },
    "tags": []
   },
   "outputs": [],
   "source": []
  },
  {
   "cell_type": "markdown",
   "id": "1e313216",
   "metadata": {
    "id": "Xyv5JybhMker",
    "papermill": {
     "duration": 0.028422,
     "end_time": "2024-11-16T15:24:56.665395",
     "exception": false,
     "start_time": "2024-11-16T15:24:56.636973",
     "status": "completed"
    },
    "tags": []
   },
   "source": [
    "**Model summary and parameters**"
   ]
  },
  {
   "cell_type": "code",
   "execution_count": 21,
   "id": "4eda067e",
   "metadata": {
    "execution": {
     "iopub.execute_input": "2024-11-16T15:24:56.723548Z",
     "iopub.status.busy": "2024-11-16T15:24:56.723081Z",
     "iopub.status.idle": "2024-11-16T15:24:56.730977Z",
     "shell.execute_reply": "2024-11-16T15:24:56.730054Z"
    },
    "id": "uAtC2pc6M9CS",
    "outputId": "d7c3815a-c4ba-48e0-cc1d-905c6595d224",
    "papermill": {
     "duration": 0.039905,
     "end_time": "2024-11-16T15:24:56.733545",
     "exception": false,
     "start_time": "2024-11-16T15:24:56.693640",
     "status": "completed"
    },
    "tags": []
   },
   "outputs": [
    {
     "name": "stdout",
     "output_type": "stream",
     "text": [
      "DataParallel(\n",
      "  (module): CustomViTModel(\n",
      "    (vitmae_embeddings): PatchEmbed(\n",
      "      (proj): Conv2d(3, 768, kernel_size=(16, 16), stride=(16, 16))\n",
      "      (norm): Identity()\n",
      "    )\n",
      "    (vitmae_encoder): ModuleList(\n",
      "      (0-11): 12 x Block(\n",
      "        (norm1): LayerNorm((768,), eps=1e-06, elementwise_affine=True)\n",
      "        (attn): Attention(\n",
      "          (qkv): Linear(in_features=768, out_features=2304, bias=True)\n",
      "          (q_norm): Identity()\n",
      "          (k_norm): Identity()\n",
      "          (attn_drop): Dropout(p=0.0, inplace=False)\n",
      "          (proj): Linear(in_features=768, out_features=768, bias=True)\n",
      "          (proj_drop): Dropout(p=0.0, inplace=False)\n",
      "        )\n",
      "        (ls1): Identity()\n",
      "        (drop_path1): Identity()\n",
      "        (norm2): LayerNorm((768,), eps=1e-06, elementwise_affine=True)\n",
      "        (mlp): Mlp(\n",
      "          (fc1): Linear(in_features=768, out_features=3072, bias=True)\n",
      "          (act): GELU(approximate='none')\n",
      "          (drop1): Dropout(p=0.0, inplace=False)\n",
      "          (norm): Identity()\n",
      "          (fc2): Linear(in_features=3072, out_features=768, bias=True)\n",
      "          (drop2): Dropout(p=0.0, inplace=False)\n",
      "        )\n",
      "        (ls2): Identity()\n",
      "        (drop_path2): Identity()\n",
      "      )\n",
      "    )\n",
      "    (embeddings_eurosat): PatchEmbed(\n",
      "      (proj): Conv2d(3, 768, kernel_size=(16, 16), stride=(16, 16))\n",
      "      (norm): Identity()\n",
      "    )\n",
      "    (encoder_eurosat): Sequential(\n",
      "      (0): Block(\n",
      "        (norm1): LayerNorm((768,), eps=1e-06, elementwise_affine=True)\n",
      "        (attn): Attention(\n",
      "          (qkv): Linear(in_features=768, out_features=2304, bias=True)\n",
      "          (q_norm): Identity()\n",
      "          (k_norm): Identity()\n",
      "          (attn_drop): Dropout(p=0.0, inplace=False)\n",
      "          (proj): Linear(in_features=768, out_features=768, bias=True)\n",
      "          (proj_drop): Dropout(p=0.0, inplace=False)\n",
      "        )\n",
      "        (ls1): Identity()\n",
      "        (drop_path1): Identity()\n",
      "        (norm2): LayerNorm((768,), eps=1e-06, elementwise_affine=True)\n",
      "        (mlp): Mlp(\n",
      "          (fc1): Linear(in_features=768, out_features=3072, bias=True)\n",
      "          (act): GELU(approximate='none')\n",
      "          (drop1): Dropout(p=0.0, inplace=False)\n",
      "          (norm): Identity()\n",
      "          (fc2): Linear(in_features=3072, out_features=768, bias=True)\n",
      "          (drop2): Dropout(p=0.0, inplace=False)\n",
      "        )\n",
      "        (ls2): Identity()\n",
      "        (drop_path2): Identity()\n",
      "      )\n",
      "      (1): Block(\n",
      "        (norm1): LayerNorm((768,), eps=1e-06, elementwise_affine=True)\n",
      "        (attn): Attention(\n",
      "          (qkv): Linear(in_features=768, out_features=2304, bias=True)\n",
      "          (q_norm): Identity()\n",
      "          (k_norm): Identity()\n",
      "          (attn_drop): Dropout(p=0.0, inplace=False)\n",
      "          (proj): Linear(in_features=768, out_features=768, bias=True)\n",
      "          (proj_drop): Dropout(p=0.0, inplace=False)\n",
      "        )\n",
      "        (ls1): Identity()\n",
      "        (drop_path1): Identity()\n",
      "        (norm2): LayerNorm((768,), eps=1e-06, elementwise_affine=True)\n",
      "        (mlp): Mlp(\n",
      "          (fc1): Linear(in_features=768, out_features=3072, bias=True)\n",
      "          (act): GELU(approximate='none')\n",
      "          (drop1): Dropout(p=0.0, inplace=False)\n",
      "          (norm): Identity()\n",
      "          (fc2): Linear(in_features=3072, out_features=768, bias=True)\n",
      "          (drop2): Dropout(p=0.0, inplace=False)\n",
      "        )\n",
      "        (ls2): Identity()\n",
      "        (drop_path2): Identity()\n",
      "      )\n",
      "      (2): Block(\n",
      "        (norm1): LayerNorm((768,), eps=1e-06, elementwise_affine=True)\n",
      "        (attn): Attention(\n",
      "          (qkv): Linear(in_features=768, out_features=2304, bias=True)\n",
      "          (q_norm): Identity()\n",
      "          (k_norm): Identity()\n",
      "          (attn_drop): Dropout(p=0.0, inplace=False)\n",
      "          (proj): Linear(in_features=768, out_features=768, bias=True)\n",
      "          (proj_drop): Dropout(p=0.0, inplace=False)\n",
      "        )\n",
      "        (ls1): Identity()\n",
      "        (drop_path1): Identity()\n",
      "        (norm2): LayerNorm((768,), eps=1e-06, elementwise_affine=True)\n",
      "        (mlp): Mlp(\n",
      "          (fc1): Linear(in_features=768, out_features=3072, bias=True)\n",
      "          (act): GELU(approximate='none')\n",
      "          (drop1): Dropout(p=0.0, inplace=False)\n",
      "          (norm): Identity()\n",
      "          (fc2): Linear(in_features=3072, out_features=768, bias=True)\n",
      "          (drop2): Dropout(p=0.0, inplace=False)\n",
      "        )\n",
      "        (ls2): Identity()\n",
      "        (drop_path2): Identity()\n",
      "      )\n",
      "      (3): Block(\n",
      "        (norm1): LayerNorm((768,), eps=1e-06, elementwise_affine=True)\n",
      "        (attn): Attention(\n",
      "          (qkv): Linear(in_features=768, out_features=2304, bias=True)\n",
      "          (q_norm): Identity()\n",
      "          (k_norm): Identity()\n",
      "          (attn_drop): Dropout(p=0.0, inplace=False)\n",
      "          (proj): Linear(in_features=768, out_features=768, bias=True)\n",
      "          (proj_drop): Dropout(p=0.0, inplace=False)\n",
      "        )\n",
      "        (ls1): Identity()\n",
      "        (drop_path1): Identity()\n",
      "        (norm2): LayerNorm((768,), eps=1e-06, elementwise_affine=True)\n",
      "        (mlp): Mlp(\n",
      "          (fc1): Linear(in_features=768, out_features=3072, bias=True)\n",
      "          (act): GELU(approximate='none')\n",
      "          (drop1): Dropout(p=0.0, inplace=False)\n",
      "          (norm): Identity()\n",
      "          (fc2): Linear(in_features=3072, out_features=768, bias=True)\n",
      "          (drop2): Dropout(p=0.0, inplace=False)\n",
      "        )\n",
      "        (ls2): Identity()\n",
      "        (drop_path2): Identity()\n",
      "      )\n",
      "      (4): Block(\n",
      "        (norm1): LayerNorm((768,), eps=1e-06, elementwise_affine=True)\n",
      "        (attn): Attention(\n",
      "          (qkv): Linear(in_features=768, out_features=2304, bias=True)\n",
      "          (q_norm): Identity()\n",
      "          (k_norm): Identity()\n",
      "          (attn_drop): Dropout(p=0.0, inplace=False)\n",
      "          (proj): Linear(in_features=768, out_features=768, bias=True)\n",
      "          (proj_drop): Dropout(p=0.0, inplace=False)\n",
      "        )\n",
      "        (ls1): Identity()\n",
      "        (drop_path1): Identity()\n",
      "        (norm2): LayerNorm((768,), eps=1e-06, elementwise_affine=True)\n",
      "        (mlp): Mlp(\n",
      "          (fc1): Linear(in_features=768, out_features=3072, bias=True)\n",
      "          (act): GELU(approximate='none')\n",
      "          (drop1): Dropout(p=0.0, inplace=False)\n",
      "          (norm): Identity()\n",
      "          (fc2): Linear(in_features=3072, out_features=768, bias=True)\n",
      "          (drop2): Dropout(p=0.0, inplace=False)\n",
      "        )\n",
      "        (ls2): Identity()\n",
      "        (drop_path2): Identity()\n",
      "      )\n",
      "      (5): Block(\n",
      "        (norm1): LayerNorm((768,), eps=1e-06, elementwise_affine=True)\n",
      "        (attn): Attention(\n",
      "          (qkv): Linear(in_features=768, out_features=2304, bias=True)\n",
      "          (q_norm): Identity()\n",
      "          (k_norm): Identity()\n",
      "          (attn_drop): Dropout(p=0.0, inplace=False)\n",
      "          (proj): Linear(in_features=768, out_features=768, bias=True)\n",
      "          (proj_drop): Dropout(p=0.0, inplace=False)\n",
      "        )\n",
      "        (ls1): Identity()\n",
      "        (drop_path1): Identity()\n",
      "        (norm2): LayerNorm((768,), eps=1e-06, elementwise_affine=True)\n",
      "        (mlp): Mlp(\n",
      "          (fc1): Linear(in_features=768, out_features=3072, bias=True)\n",
      "          (act): GELU(approximate='none')\n",
      "          (drop1): Dropout(p=0.0, inplace=False)\n",
      "          (norm): Identity()\n",
      "          (fc2): Linear(in_features=3072, out_features=768, bias=True)\n",
      "          (drop2): Dropout(p=0.0, inplace=False)\n",
      "        )\n",
      "        (ls2): Identity()\n",
      "        (drop_path2): Identity()\n",
      "      )\n",
      "      (6): Block(\n",
      "        (norm1): LayerNorm((768,), eps=1e-06, elementwise_affine=True)\n",
      "        (attn): Attention(\n",
      "          (qkv): Linear(in_features=768, out_features=2304, bias=True)\n",
      "          (q_norm): Identity()\n",
      "          (k_norm): Identity()\n",
      "          (attn_drop): Dropout(p=0.0, inplace=False)\n",
      "          (proj): Linear(in_features=768, out_features=768, bias=True)\n",
      "          (proj_drop): Dropout(p=0.0, inplace=False)\n",
      "        )\n",
      "        (ls1): Identity()\n",
      "        (drop_path1): Identity()\n",
      "        (norm2): LayerNorm((768,), eps=1e-06, elementwise_affine=True)\n",
      "        (mlp): Mlp(\n",
      "          (fc1): Linear(in_features=768, out_features=3072, bias=True)\n",
      "          (act): GELU(approximate='none')\n",
      "          (drop1): Dropout(p=0.0, inplace=False)\n",
      "          (norm): Identity()\n",
      "          (fc2): Linear(in_features=3072, out_features=768, bias=True)\n",
      "          (drop2): Dropout(p=0.0, inplace=False)\n",
      "        )\n",
      "        (ls2): Identity()\n",
      "        (drop_path2): Identity()\n",
      "      )\n",
      "      (7): Block(\n",
      "        (norm1): LayerNorm((768,), eps=1e-06, elementwise_affine=True)\n",
      "        (attn): Attention(\n",
      "          (qkv): Linear(in_features=768, out_features=2304, bias=True)\n",
      "          (q_norm): Identity()\n",
      "          (k_norm): Identity()\n",
      "          (attn_drop): Dropout(p=0.0, inplace=False)\n",
      "          (proj): Linear(in_features=768, out_features=768, bias=True)\n",
      "          (proj_drop): Dropout(p=0.0, inplace=False)\n",
      "        )\n",
      "        (ls1): Identity()\n",
      "        (drop_path1): Identity()\n",
      "        (norm2): LayerNorm((768,), eps=1e-06, elementwise_affine=True)\n",
      "        (mlp): Mlp(\n",
      "          (fc1): Linear(in_features=768, out_features=3072, bias=True)\n",
      "          (act): GELU(approximate='none')\n",
      "          (drop1): Dropout(p=0.0, inplace=False)\n",
      "          (norm): Identity()\n",
      "          (fc2): Linear(in_features=3072, out_features=768, bias=True)\n",
      "          (drop2): Dropout(p=0.0, inplace=False)\n",
      "        )\n",
      "        (ls2): Identity()\n",
      "        (drop_path2): Identity()\n",
      "      )\n",
      "      (8): Block(\n",
      "        (norm1): LayerNorm((768,), eps=1e-06, elementwise_affine=True)\n",
      "        (attn): Attention(\n",
      "          (qkv): Linear(in_features=768, out_features=2304, bias=True)\n",
      "          (q_norm): Identity()\n",
      "          (k_norm): Identity()\n",
      "          (attn_drop): Dropout(p=0.0, inplace=False)\n",
      "          (proj): Linear(in_features=768, out_features=768, bias=True)\n",
      "          (proj_drop): Dropout(p=0.0, inplace=False)\n",
      "        )\n",
      "        (ls1): Identity()\n",
      "        (drop_path1): Identity()\n",
      "        (norm2): LayerNorm((768,), eps=1e-06, elementwise_affine=True)\n",
      "        (mlp): Mlp(\n",
      "          (fc1): Linear(in_features=768, out_features=3072, bias=True)\n",
      "          (act): GELU(approximate='none')\n",
      "          (drop1): Dropout(p=0.0, inplace=False)\n",
      "          (norm): Identity()\n",
      "          (fc2): Linear(in_features=3072, out_features=768, bias=True)\n",
      "          (drop2): Dropout(p=0.0, inplace=False)\n",
      "        )\n",
      "        (ls2): Identity()\n",
      "        (drop_path2): Identity()\n",
      "      )\n",
      "      (9): Block(\n",
      "        (norm1): LayerNorm((768,), eps=1e-06, elementwise_affine=True)\n",
      "        (attn): Attention(\n",
      "          (qkv): Linear(in_features=768, out_features=2304, bias=True)\n",
      "          (q_norm): Identity()\n",
      "          (k_norm): Identity()\n",
      "          (attn_drop): Dropout(p=0.0, inplace=False)\n",
      "          (proj): Linear(in_features=768, out_features=768, bias=True)\n",
      "          (proj_drop): Dropout(p=0.0, inplace=False)\n",
      "        )\n",
      "        (ls1): Identity()\n",
      "        (drop_path1): Identity()\n",
      "        (norm2): LayerNorm((768,), eps=1e-06, elementwise_affine=True)\n",
      "        (mlp): Mlp(\n",
      "          (fc1): Linear(in_features=768, out_features=3072, bias=True)\n",
      "          (act): GELU(approximate='none')\n",
      "          (drop1): Dropout(p=0.0, inplace=False)\n",
      "          (norm): Identity()\n",
      "          (fc2): Linear(in_features=3072, out_features=768, bias=True)\n",
      "          (drop2): Dropout(p=0.0, inplace=False)\n",
      "        )\n",
      "        (ls2): Identity()\n",
      "        (drop_path2): Identity()\n",
      "      )\n",
      "      (10): Block(\n",
      "        (norm1): LayerNorm((768,), eps=1e-06, elementwise_affine=True)\n",
      "        (attn): Attention(\n",
      "          (qkv): Linear(in_features=768, out_features=2304, bias=True)\n",
      "          (q_norm): Identity()\n",
      "          (k_norm): Identity()\n",
      "          (attn_drop): Dropout(p=0.0, inplace=False)\n",
      "          (proj): Linear(in_features=768, out_features=768, bias=True)\n",
      "          (proj_drop): Dropout(p=0.0, inplace=False)\n",
      "        )\n",
      "        (ls1): Identity()\n",
      "        (drop_path1): Identity()\n",
      "        (norm2): LayerNorm((768,), eps=1e-06, elementwise_affine=True)\n",
      "        (mlp): Mlp(\n",
      "          (fc1): Linear(in_features=768, out_features=3072, bias=True)\n",
      "          (act): GELU(approximate='none')\n",
      "          (drop1): Dropout(p=0.0, inplace=False)\n",
      "          (norm): Identity()\n",
      "          (fc2): Linear(in_features=3072, out_features=768, bias=True)\n",
      "          (drop2): Dropout(p=0.0, inplace=False)\n",
      "        )\n",
      "        (ls2): Identity()\n",
      "        (drop_path2): Identity()\n",
      "      )\n",
      "      (11): Block(\n",
      "        (norm1): LayerNorm((768,), eps=1e-06, elementwise_affine=True)\n",
      "        (attn): Attention(\n",
      "          (qkv): Linear(in_features=768, out_features=2304, bias=True)\n",
      "          (q_norm): Identity()\n",
      "          (k_norm): Identity()\n",
      "          (attn_drop): Dropout(p=0.0, inplace=False)\n",
      "          (proj): Linear(in_features=768, out_features=768, bias=True)\n",
      "          (proj_drop): Dropout(p=0.0, inplace=False)\n",
      "        )\n",
      "        (ls1): Identity()\n",
      "        (drop_path1): Identity()\n",
      "        (norm2): LayerNorm((768,), eps=1e-06, elementwise_affine=True)\n",
      "        (mlp): Mlp(\n",
      "          (fc1): Linear(in_features=768, out_features=3072, bias=True)\n",
      "          (act): GELU(approximate='none')\n",
      "          (drop1): Dropout(p=0.0, inplace=False)\n",
      "          (norm): Identity()\n",
      "          (fc2): Linear(in_features=3072, out_features=768, bias=True)\n",
      "          (drop2): Dropout(p=0.0, inplace=False)\n",
      "        )\n",
      "        (ls2): Identity()\n",
      "        (drop_path2): Identity()\n",
      "      )\n",
      "    )\n",
      "    (layer_norm): LayerNorm((1536,), eps=1e-05, elementwise_affine=True)\n",
      "    (additional_layers): Sequential(\n",
      "      (0): LayerNorm((1536,), eps=1e-05, elementwise_affine=True)\n",
      "      (1): Linear(in_features=1536, out_features=768, bias=True)\n",
      "      (2): ReLU()\n",
      "      (3): Linear(in_features=768, out_features=512, bias=True)\n",
      "      (4): ReLU()\n",
      "      (5): Linear(in_features=512, out_features=7, bias=True)\n",
      "    )\n",
      "  )\n",
      ")\n"
     ]
    }
   ],
   "source": [
    "# model summary\n",
    "print(custom_model)"
   ]
  },
  {
   "cell_type": "code",
   "execution_count": 22,
   "id": "2762afff",
   "metadata": {
    "execution": {
     "iopub.execute_input": "2024-11-16T15:24:56.791969Z",
     "iopub.status.busy": "2024-11-16T15:24:56.791659Z",
     "iopub.status.idle": "2024-11-16T15:24:56.801218Z",
     "shell.execute_reply": "2024-11-16T15:24:56.800357Z"
    },
    "id": "otz56gpNMj6T",
    "outputId": "26cae909-d452-4cc2-e52a-d3cf697dd10c",
    "papermill": {
     "duration": 0.040875,
     "end_time": "2024-11-16T15:24:56.803146",
     "exception": false,
     "start_time": "2024-11-16T15:24:56.762271",
     "status": "completed"
    },
    "tags": []
   },
   "outputs": [
    {
     "name": "stdout",
     "output_type": "stream",
     "text": [
      "172,873,991 total parameters.\n",
      "1,583,879 training parameters.\n"
     ]
    }
   ],
   "source": [
    "# total parameters and trainable parameters\n",
    "total_params = sum(p.numel() for p in custom_model.parameters())  #numel returns the number of parameters in the model\n",
    "print(f\"{total_params:,} total parameters.\")\n",
    "total_trainable_params = sum(p.numel() for p in custom_model.parameters() if p.requires_grad)\n",
    "print(f\"{total_trainable_params:,} training parameters.\")"
   ]
  },
  {
   "cell_type": "code",
   "execution_count": null,
   "id": "18dba871",
   "metadata": {
    "id": "QjkHzfpnM8gT",
    "papermill": {
     "duration": 0.030109,
     "end_time": "2024-11-16T15:24:56.863686",
     "exception": false,
     "start_time": "2024-11-16T15:24:56.833577",
     "status": "completed"
    },
    "tags": []
   },
   "outputs": [],
   "source": []
  },
  {
   "cell_type": "markdown",
   "id": "ec5f06ec",
   "metadata": {
    "id": "M4h8_dWDKDDs",
    "papermill": {
     "duration": 0.028831,
     "end_time": "2024-11-16T15:24:56.921751",
     "exception": false,
     "start_time": "2024-11-16T15:24:56.892920",
     "status": "completed"
    },
    "tags": []
   },
   "source": [
    "**Training Function**"
   ]
  },
  {
   "cell_type": "code",
   "execution_count": 23,
   "id": "6316e3e4",
   "metadata": {
    "execution": {
     "iopub.execute_input": "2024-11-16T15:24:56.982784Z",
     "iopub.status.busy": "2024-11-16T15:24:56.981900Z",
     "iopub.status.idle": "2024-11-16T15:24:56.992836Z",
     "shell.execute_reply": "2024-11-16T15:24:56.991866Z"
    },
    "id": "qnOjF1ZEKC13",
    "papermill": {
     "duration": 0.043201,
     "end_time": "2024-11-16T15:24:56.994962",
     "exception": false,
     "start_time": "2024-11-16T15:24:56.951761",
     "status": "completed"
    },
    "tags": []
   },
   "outputs": [],
   "source": [
    "# training\n",
    "def train(model, trainloader, optimizer, criterion):\n",
    "    model.train()\n",
    "    print('Training')\n",
    "    train_running_loss = 0.0\n",
    "    train_running_correct = 0\n",
    "    counter = 0\n",
    "\n",
    "    all_preds = []\n",
    "    all_labels = []\n",
    "\n",
    "    for i, data in tqdm(enumerate(trainloader), total=len(trainloader)):\n",
    "        counter += 1\n",
    "        image, labels = data\n",
    "        image = image.to(device)\n",
    "        labels = labels.to(device)\n",
    "        optimizer.zero_grad()\n",
    "        # forward pass\n",
    "        outputs = model(image)\n",
    "        # calculate the loss\n",
    "        loss = criterion(outputs, labels)\n",
    "        train_running_loss += loss.item()\n",
    "        # calculate the accuracy\n",
    "        _, preds = torch.max(outputs.data, 1)\n",
    "        train_running_correct += (preds == labels).sum().item()\n",
    "        # backpropagation\n",
    "        loss.backward()\n",
    "        # update the optimizer parameters\n",
    "        optimizer.step()\n",
    "\n",
    "    # loss and accuracy for the complete epoch\n",
    "    epoch_loss = train_running_loss / counter\n",
    "    epoch_acc = 100. * (train_running_correct / len(trainloader.dataset))\n",
    "\n",
    "    # Store all predictions and true labels for metrics calculation\n",
    "    all_preds.extend(preds.cpu().numpy())\n",
    "    all_labels.extend(labels.cpu().numpy())\n",
    "\n",
    "    # Calculate precision, recall, and F1-score\n",
    "    precision = 100.*precision_score(all_labels, all_preds, average='weighted', zero_division=0)\n",
    "    recall = 100.*recall_score(all_labels, all_preds, average='weighted', zero_division=0)\n",
    "    f1 = 100.*f1_score(all_labels, all_preds, average='weighted', zero_division=0)\n",
    "\n",
    "\n",
    "    return epoch_loss, epoch_acc, precision, recall, f1"
   ]
  },
  {
   "cell_type": "code",
   "execution_count": null,
   "id": "a1b04d3c",
   "metadata": {
    "id": "zQ69CCeDOlZi",
    "papermill": {
     "duration": 0.028917,
     "end_time": "2024-11-16T15:24:57.053872",
     "exception": false,
     "start_time": "2024-11-16T15:24:57.024955",
     "status": "completed"
    },
    "tags": []
   },
   "outputs": [],
   "source": []
  },
  {
   "cell_type": "markdown",
   "id": "0e9fdb9b",
   "metadata": {
    "id": "XgED5qGrKNdT",
    "papermill": {
     "duration": 0.028391,
     "end_time": "2024-11-16T15:24:57.110830",
     "exception": false,
     "start_time": "2024-11-16T15:24:57.082439",
     "status": "completed"
    },
    "tags": []
   },
   "source": [
    "**Validation function**"
   ]
  },
  {
   "cell_type": "code",
   "execution_count": 24,
   "id": "3df4e2cc",
   "metadata": {
    "execution": {
     "iopub.execute_input": "2024-11-16T15:24:57.169818Z",
     "iopub.status.busy": "2024-11-16T15:24:57.169142Z",
     "iopub.status.idle": "2024-11-16T15:24:57.178827Z",
     "shell.execute_reply": "2024-11-16T15:24:57.177932Z"
    },
    "id": "uzScGE6vJ1Ac",
    "papermill": {
     "duration": 0.041116,
     "end_time": "2024-11-16T15:24:57.180840",
     "exception": false,
     "start_time": "2024-11-16T15:24:57.139724",
     "status": "completed"
    },
    "tags": []
   },
   "outputs": [],
   "source": [
    "# validation\n",
    "def validate(model, testloader, criterion):\n",
    "    model.eval()\n",
    "    print('Validation')\n",
    "    valid_running_loss = 0.0\n",
    "    valid_running_correct = 0\n",
    "    counter = 0\n",
    "\n",
    "    all_preds = []\n",
    "    all_labels = []\n",
    "\n",
    "    with torch.no_grad():\n",
    "        for i, data in tqdm(enumerate(testloader), total=len(testloader)):\n",
    "            counter += 1\n",
    "\n",
    "            image, labels = data\n",
    "            image = image.to(device)\n",
    "            labels = labels.to(device)\n",
    "            # forward pass\n",
    "            outputs = model(image)\n",
    "            # calculate the loss\n",
    "            loss = criterion(outputs, labels)\n",
    "            valid_running_loss += loss.item()\n",
    "            # calculate the accuracy\n",
    "            _, preds = torch.max(outputs.data, 1)\n",
    "            valid_running_correct += (preds == labels).sum().item()\n",
    "\n",
    "            # Store all predictions and true labels for metrics calculation\n",
    "            all_preds.extend(preds.cpu().numpy())\n",
    "            all_labels.extend(labels.cpu().numpy())\n",
    "\n",
    "    # loss and accuracy for the complete epoch\n",
    "    epoch_loss = valid_running_loss / counter\n",
    "    epoch_acc = 100. * (valid_running_correct / len(testloader.dataset))\n",
    "\n",
    "    # Calculate precision, recall, and F1-score\n",
    "    precision = 100. * precision_score(all_labels, all_preds, average='weighted', zero_division=0)\n",
    "    recall = 100. * recall_score(all_labels, all_preds, average='weighted', zero_division=0)\n",
    "    f1 = 100. * f1_score(all_labels, all_preds, average='weighted', zero_division=0)\n",
    "\n",
    "    return epoch_loss, epoch_acc, precision, recall, f1"
   ]
  },
  {
   "cell_type": "code",
   "execution_count": null,
   "id": "0ed9e3b1",
   "metadata": {
    "id": "lAzg4o88PEkR",
    "papermill": {
     "duration": 0.028497,
     "end_time": "2024-11-16T15:24:57.238277",
     "exception": false,
     "start_time": "2024-11-16T15:24:57.209780",
     "status": "completed"
    },
    "tags": []
   },
   "outputs": [],
   "source": []
  },
  {
   "cell_type": "markdown",
   "id": "85db9925",
   "metadata": {
    "papermill": {
     "duration": 0.030495,
     "end_time": "2024-11-16T15:24:57.298115",
     "exception": false,
     "start_time": "2024-11-16T15:24:57.267620",
     "status": "completed"
    },
    "tags": []
   },
   "source": [
    "**Early stopping**"
   ]
  },
  {
   "cell_type": "code",
   "execution_count": 25,
   "id": "c3d43b7c",
   "metadata": {
    "execution": {
     "iopub.execute_input": "2024-11-16T15:24:57.358164Z",
     "iopub.status.busy": "2024-11-16T15:24:57.357817Z",
     "iopub.status.idle": "2024-11-16T15:24:57.364667Z",
     "shell.execute_reply": "2024-11-16T15:24:57.363754Z"
    },
    "papermill": {
     "duration": 0.039384,
     "end_time": "2024-11-16T15:24:57.366468",
     "exception": false,
     "start_time": "2024-11-16T15:24:57.327084",
     "status": "completed"
    },
    "tags": []
   },
   "outputs": [],
   "source": [
    "class EarlyStopping:\n",
    "    def __init__(self, patience=5, delta=0):\n",
    "        self.patience = patience\n",
    "        self.delta = delta\n",
    "        self.best_loss = None\n",
    "        self.counter = 0\n",
    "        self.early_stop = False\n",
    "\n",
    "    def __call__(self, val_loss):\n",
    "        if self.best_loss is None:\n",
    "            self.best_loss = val_loss\n",
    "        elif val_loss > self.best_loss - self.delta:\n",
    "            self.counter += 1\n",
    "            if self.counter >= self.patience:\n",
    "                self.early_stop = True\n",
    "        else:\n",
    "            self.best_loss = val_loss\n",
    "            self.counter = 0"
   ]
  },
  {
   "cell_type": "code",
   "execution_count": null,
   "id": "6ca3e7ff",
   "metadata": {
    "papermill": {
     "duration": 0.029299,
     "end_time": "2024-11-16T15:24:57.425224",
     "exception": false,
     "start_time": "2024-11-16T15:24:57.395925",
     "status": "completed"
    },
    "tags": []
   },
   "outputs": [],
   "source": []
  },
  {
   "cell_type": "markdown",
   "id": "22844c04",
   "metadata": {
    "id": "E3qoyQ2xPGbg",
    "papermill": {
     "duration": 0.028446,
     "end_time": "2024-11-16T15:24:57.483155",
     "exception": false,
     "start_time": "2024-11-16T15:24:57.454709",
     "status": "completed"
    },
    "tags": []
   },
   "source": [
    "\n",
    "**Save the model**"
   ]
  },
  {
   "cell_type": "code",
   "execution_count": 26,
   "id": "0b53c09d",
   "metadata": {
    "execution": {
     "iopub.execute_input": "2024-11-16T15:24:57.543755Z",
     "iopub.status.busy": "2024-11-16T15:24:57.543402Z",
     "iopub.status.idle": "2024-11-16T15:24:57.548902Z",
     "shell.execute_reply": "2024-11-16T15:24:57.548138Z"
    },
    "id": "m-GU6BNDPEZD",
    "papermill": {
     "duration": 0.038171,
     "end_time": "2024-11-16T15:24:57.550747",
     "exception": false,
     "start_time": "2024-11-16T15:24:57.512576",
     "status": "completed"
    },
    "tags": []
   },
   "outputs": [],
   "source": [
    "def save_model(epochs, model, optimizer, criterion):\n",
    "    \"\"\"\n",
    "    Function to save the trained model to disk.\n",
    "    \"\"\"\n",
    "    # create best model folder\n",
    "    if not os.path.isdir('outputs'):\n",
    "        os.mkdir('outputs')\n",
    "\n",
    "    torch.save({\n",
    "                'epoch': epochs,\n",
    "                'model_state_dict': model.state_dict(),\n",
    "                'optimizer_state_dict': optimizer.state_dict(),\n",
    "                'loss': criterion,\n",
    "                }, 'outputs/model.pth')"
   ]
  },
  {
   "cell_type": "code",
   "execution_count": null,
   "id": "5f4c54fa",
   "metadata": {
    "id": "nhBGM85RPzig",
    "papermill": {
     "duration": 0.028832,
     "end_time": "2024-11-16T15:24:57.608885",
     "exception": false,
     "start_time": "2024-11-16T15:24:57.580053",
     "status": "completed"
    },
    "tags": []
   },
   "outputs": [],
   "source": []
  },
  {
   "cell_type": "markdown",
   "id": "1625ceb1",
   "metadata": {
    "id": "6FCOzbskPwFw",
    "papermill": {
     "duration": 0.028665,
     "end_time": "2024-11-16T15:24:57.666165",
     "exception": false,
     "start_time": "2024-11-16T15:24:57.637500",
     "status": "completed"
    },
    "tags": []
   },
   "source": [
    "**Save the plots**"
   ]
  },
  {
   "cell_type": "code",
   "execution_count": 27,
   "id": "396622b7",
   "metadata": {
    "execution": {
     "iopub.execute_input": "2024-11-16T15:24:57.724750Z",
     "iopub.status.busy": "2024-11-16T15:24:57.724400Z",
     "iopub.status.idle": "2024-11-16T15:24:57.732939Z",
     "shell.execute_reply": "2024-11-16T15:24:57.732081Z"
    },
    "id": "r-8xliNDPuxY",
    "papermill": {
     "duration": 0.040034,
     "end_time": "2024-11-16T15:24:57.734802",
     "exception": false,
     "start_time": "2024-11-16T15:24:57.694768",
     "status": "completed"
    },
    "tags": []
   },
   "outputs": [],
   "source": [
    "def save_plots(train_acc, valid_acc, train_loss, valid_loss):\n",
    "    \"\"\"\n",
    "    Function to save the loss and accuracy plots to disk.\n",
    "    \"\"\"\n",
    "\n",
    "    # create outputs folder\n",
    "    if not os.path.isdir('outputs'):\n",
    "        os.mkdir('outputs')\n",
    "\n",
    "    # accuracy plots\n",
    "    plt.figure(figsize=(8, 6))\n",
    "    plt.plot(\n",
    "        train_acc, color='green', linestyle='-',\n",
    "        label='train accuracy'\n",
    "    )\n",
    "    plt.plot(\n",
    "        valid_acc, color='blue', linestyle='-',\n",
    "        label='validataion accuracy'\n",
    "    )\n",
    "    plt.xlabel('Epochs')\n",
    "    plt.ylabel('Accuracy')\n",
    "    plt.legend()\n",
    "    plt.savefig('outputs/accuracy.png')\n",
    "    plt.show()\n",
    "\n",
    "    # loss plots\n",
    "    plt.figure(figsize=(8, 6))\n",
    "    plt.plot(\n",
    "        train_loss, color='orange', linestyle='-',\n",
    "        label='train loss'\n",
    "    )\n",
    "    plt.plot(\n",
    "        valid_loss, color='red', linestyle='-',\n",
    "        label='validataion loss'\n",
    "    )\n",
    "    plt.xlabel('Epochs')\n",
    "    plt.ylabel('Loss')\n",
    "    plt.legend()\n",
    "    plt.savefig('outputs/loss.png')\n",
    "    plt.show()"
   ]
  },
  {
   "cell_type": "code",
   "execution_count": null,
   "id": "f16688fe",
   "metadata": {
    "id": "pkgouHysPKP4",
    "papermill": {
     "duration": 0.02842,
     "end_time": "2024-11-16T15:24:57.792014",
     "exception": false,
     "start_time": "2024-11-16T15:24:57.763594",
     "status": "completed"
    },
    "tags": []
   },
   "outputs": [],
   "source": []
  },
  {
   "cell_type": "markdown",
   "id": "687f2981",
   "metadata": {
    "id": "RhIs_WmjaBAm",
    "papermill": {
     "duration": 0.028553,
     "end_time": "2024-11-16T15:24:57.849258",
     "exception": false,
     "start_time": "2024-11-16T15:24:57.820705",
     "status": "completed"
    },
    "tags": []
   },
   "source": [
    "**Save confusion matrix and classifcation report**"
   ]
  },
  {
   "cell_type": "code",
   "execution_count": 28,
   "id": "001a7206",
   "metadata": {
    "execution": {
     "iopub.execute_input": "2024-11-16T15:24:57.908018Z",
     "iopub.status.busy": "2024-11-16T15:24:57.907699Z",
     "iopub.status.idle": "2024-11-16T15:24:57.918264Z",
     "shell.execute_reply": "2024-11-16T15:24:57.917547Z"
    },
    "id": "RxOgA7vcaAml",
    "papermill": {
     "duration": 0.042253,
     "end_time": "2024-11-16T15:24:57.920138",
     "exception": false,
     "start_time": "2024-11-16T15:24:57.877885",
     "status": "completed"
    },
    "tags": []
   },
   "outputs": [],
   "source": [
    "def save_confusion_matrix(model, testloader, label_names):\n",
    "    \"\"\"\n",
    "    Function to save the confusion matrix to disk.\n",
    "    \"\"\"\n",
    "    # create outputs folder\n",
    "    if not os.path.isdir('outputs'):\n",
    "        os.mkdir('outputs')\n",
    "\n",
    "    model.eval()\n",
    "    all_preds = []\n",
    "    all_labels = []\n",
    "\n",
    "    with torch.no_grad():\n",
    "        for i, data in tqdm(enumerate(testloader), total=len(testloader)):\n",
    "            image, labels = data\n",
    "            image = image.to(device)\n",
    "            labels = labels.to(device)\n",
    "            # forward pass\n",
    "            outputs = model(image)\n",
    "            # calculate the accuracy\n",
    "            _, preds = torch.max(outputs.data, 1)\n",
    "            all_preds.extend(preds.cpu().numpy())\n",
    "            all_labels.extend(labels.cpu().numpy())\n",
    "\n",
    "    print(\"\\n\\n\")\n",
    "    # Calculate precision, recall, and F1-score\n",
    "    precision = precision_score(all_labels, all_preds, average='weighted')\n",
    "    print(f\"Precision: {precision}\")\n",
    "    recall = recall_score(all_labels, all_preds, average='weighted')\n",
    "    print(f\"Recall: {recall}\")\n",
    "    f1 = f1_score(all_labels, all_preds, average='weighted')\n",
    "    print(f\"F1-score: {f1}\")\n",
    "\n",
    "    # Display the classification report\n",
    "    print(\"Classification Report:\")\n",
    "    print(classification_report(all_labels, all_preds, target_names=label_names, zero_division=0))\n",
    "\n",
    "    print(\"\\Confusion Matrix\")\n",
    "    cm = confusion_matrix(all_labels, all_preds)\n",
    "    plt.figure(figsize=(10, 7))\n",
    "    sns.heatmap(cm, annot=True, fmt='d', cmap='Blues', xticklabels=label_names, yticklabels=label_names)\n",
    "    plt.xlabel('Predicted Labels')\n",
    "    plt.ylabel('True Labels')\n",
    "    plt.title('Confusion Matrix')\n",
    "    plt.show()"
   ]
  },
  {
   "cell_type": "code",
   "execution_count": null,
   "id": "f74c00b0",
   "metadata": {
    "id": "H2vZjfoiaAHE",
    "papermill": {
     "duration": 0.029188,
     "end_time": "2024-11-16T15:24:57.977988",
     "exception": false,
     "start_time": "2024-11-16T15:24:57.948800",
     "status": "completed"
    },
    "tags": []
   },
   "outputs": [],
   "source": []
  },
  {
   "cell_type": "markdown",
   "id": "d2a1c4ed",
   "metadata": {
    "id": "ExrljpLbQRFS",
    "papermill": {
     "duration": 0.028947,
     "end_time": "2024-11-16T15:24:58.035658",
     "exception": false,
     "start_time": "2024-11-16T15:24:58.006711",
     "status": "completed"
    },
    "tags": []
   },
   "source": [
    "**Optimizer and Loss function**"
   ]
  },
  {
   "cell_type": "code",
   "execution_count": 29,
   "id": "19b0fb71",
   "metadata": {
    "execution": {
     "iopub.execute_input": "2024-11-16T15:24:58.095259Z",
     "iopub.status.busy": "2024-11-16T15:24:58.094907Z",
     "iopub.status.idle": "2024-11-16T15:24:58.102671Z",
     "shell.execute_reply": "2024-11-16T15:24:58.101871Z"
    },
    "id": "oW3QTcnRQOxF",
    "papermill": {
     "duration": 0.039912,
     "end_time": "2024-11-16T15:24:58.104620",
     "exception": false,
     "start_time": "2024-11-16T15:24:58.064708",
     "status": "completed"
    },
    "tags": []
   },
   "outputs": [],
   "source": [
    "epochs = 30\n",
    "criterion = nn.CrossEntropyLoss()\n",
    "optimizer = Adam(custom_model.parameters(), lr=1e-3)\n",
    "early_stopping = EarlyStopping(patience=7, delta=0.001)\n",
    "scheduler = ReduceLROnPlateau(optimizer, mode='min', patience=4, factor=0.5, verbose=True)"
   ]
  },
  {
   "cell_type": "code",
   "execution_count": null,
   "id": "5cd51001",
   "metadata": {
    "papermill": {
     "duration": 0.028791,
     "end_time": "2024-11-16T15:24:58.162249",
     "exception": false,
     "start_time": "2024-11-16T15:24:58.133458",
     "status": "completed"
    },
    "tags": []
   },
   "outputs": [],
   "source": []
  },
  {
   "cell_type": "code",
   "execution_count": 30,
   "id": "be14ed01",
   "metadata": {
    "execution": {
     "iopub.execute_input": "2024-11-16T15:24:58.220754Z",
     "iopub.status.busy": "2024-11-16T15:24:58.220438Z",
     "iopub.status.idle": "2024-11-17T02:59:24.276788Z",
     "shell.execute_reply": "2024-11-17T02:59:24.275846Z"
    },
    "id": "X4qstQRfKSHp",
    "outputId": "1cbace33-2a58-42a4-cdde-b250e40f5e6a",
    "papermill": {
     "duration": 41668.136003,
     "end_time": "2024-11-17T02:59:26.326904",
     "exception": false,
     "start_time": "2024-11-16T15:24:58.190901",
     "status": "completed"
    },
    "tags": []
   },
   "outputs": [
    {
     "name": "stdout",
     "output_type": "stream",
     "text": [
      "[INFO]: Epoch 1 of 30\n",
      "Training\n"
     ]
    },
    {
     "name": "stderr",
     "output_type": "stream",
     "text": [
      "  0%|          | 0/1099 [00:00<?, ?it/s]/opt/conda/lib/python3.10/site-packages/torch/nn/parallel/parallel_apply.py:79: FutureWarning: `torch.cuda.amp.autocast(args...)` is deprecated. Please use `torch.amp.autocast('cuda', args...)` instead.\n",
      "  with torch.cuda.device(device), torch.cuda.stream(stream), autocast(enabled=autocast_enabled):\n",
      "100%|██████████| 1099/1099 [38:45<00:00,  2.12s/it]\n"
     ]
    },
    {
     "name": "stdout",
     "output_type": "stream",
     "text": [
      "Validation\n"
     ]
    },
    {
     "name": "stderr",
     "output_type": "stream",
     "text": [
      "  0%|          | 0/337 [00:00<?, ?it/s]/opt/conda/lib/python3.10/site-packages/torch/nn/parallel/parallel_apply.py:79: FutureWarning: `torch.cuda.amp.autocast(args...)` is deprecated. Please use `torch.amp.autocast('cuda', args...)` instead.\n",
      "  with torch.cuda.device(device), torch.cuda.stream(stream), autocast(enabled=autocast_enabled):\n",
      "100%|██████████| 337/337 [09:26<00:00,  1.68s/it]\n"
     ]
    },
    {
     "name": "stdout",
     "output_type": "stream",
     "text": [
      "Training loss: 1.380, Training acc: 44.973,      Training precision: 54.230, Training recall: 59.322, Training f1: 56.122\n",
      "Validation loss: 1.252, Validation acc: 51.604,       Validation precision: 50.124, Validation recall: 51.604, Validation f1: 49.615\n",
      "--------------------------------------------------\n",
      "[INFO]: Epoch 2 of 30\n",
      "Training\n"
     ]
    },
    {
     "name": "stderr",
     "output_type": "stream",
     "text": [
      "  0%|          | 0/1099 [00:00<?, ?it/s]/opt/conda/lib/python3.10/site-packages/torch/nn/parallel/parallel_apply.py:79: FutureWarning: `torch.cuda.amp.autocast(args...)` is deprecated. Please use `torch.amp.autocast('cuda', args...)` instead.\n",
      "  with torch.cuda.device(device), torch.cuda.stream(stream), autocast(enabled=autocast_enabled):\n",
      "100%|██████████| 1099/1099 [30:40<00:00,  1.67s/it]\n"
     ]
    },
    {
     "name": "stdout",
     "output_type": "stream",
     "text": [
      "Validation\n"
     ]
    },
    {
     "name": "stderr",
     "output_type": "stream",
     "text": [
      "  0%|          | 0/337 [00:00<?, ?it/s]/opt/conda/lib/python3.10/site-packages/torch/nn/parallel/parallel_apply.py:79: FutureWarning: `torch.cuda.amp.autocast(args...)` is deprecated. Please use `torch.amp.autocast('cuda', args...)` instead.\n",
      "  with torch.cuda.device(device), torch.cuda.stream(stream), autocast(enabled=autocast_enabled):\n",
      "100%|██████████| 337/337 [07:01<00:00,  1.25s/it]\n"
     ]
    },
    {
     "name": "stdout",
     "output_type": "stream",
     "text": [
      "Training loss: 1.305, Training acc: 47.787,      Training precision: 36.576, Training recall: 49.153, Training f1: 41.859\n",
      "Validation loss: 1.312, Validation acc: 50.169,       Validation precision: 50.711, Validation recall: 50.169, Validation f1: 47.837\n",
      "--------------------------------------------------\n",
      "[INFO]: Epoch 3 of 30\n",
      "Training\n"
     ]
    },
    {
     "name": "stderr",
     "output_type": "stream",
     "text": [
      "  0%|          | 0/1099 [00:00<?, ?it/s]/opt/conda/lib/python3.10/site-packages/torch/nn/parallel/parallel_apply.py:79: FutureWarning: `torch.cuda.amp.autocast(args...)` is deprecated. Please use `torch.amp.autocast('cuda', args...)` instead.\n",
      "  with torch.cuda.device(device), torch.cuda.stream(stream), autocast(enabled=autocast_enabled):\n",
      "100%|██████████| 1099/1099 [30:59<00:00,  1.69s/it]\n"
     ]
    },
    {
     "name": "stdout",
     "output_type": "stream",
     "text": [
      "Validation\n"
     ]
    },
    {
     "name": "stderr",
     "output_type": "stream",
     "text": [
      "  0%|          | 0/337 [00:00<?, ?it/s]/opt/conda/lib/python3.10/site-packages/torch/nn/parallel/parallel_apply.py:79: FutureWarning: `torch.cuda.amp.autocast(args...)` is deprecated. Please use `torch.amp.autocast('cuda', args...)` instead.\n",
      "  with torch.cuda.device(device), torch.cuda.stream(stream), autocast(enabled=autocast_enabled):\n",
      "100%|██████████| 337/337 [06:57<00:00,  1.24s/it]\n"
     ]
    },
    {
     "name": "stdout",
     "output_type": "stream",
     "text": [
      "Training loss: 1.277, Training acc: 48.967,      Training precision: 44.070, Training recall: 52.542, Training f1: 47.509\n",
      "Validation loss: 1.207, Validation acc: 53.507,       Validation precision: 50.721, Validation recall: 53.507, Validation f1: 49.945\n",
      "--------------------------------------------------\n",
      "[INFO]: Epoch 4 of 30\n",
      "Training\n"
     ]
    },
    {
     "name": "stderr",
     "output_type": "stream",
     "text": [
      "  0%|          | 0/1099 [00:00<?, ?it/s]/opt/conda/lib/python3.10/site-packages/torch/nn/parallel/parallel_apply.py:79: FutureWarning: `torch.cuda.amp.autocast(args...)` is deprecated. Please use `torch.amp.autocast('cuda', args...)` instead.\n",
      "  with torch.cuda.device(device), torch.cuda.stream(stream), autocast(enabled=autocast_enabled):\n",
      "100%|██████████| 1099/1099 [30:52<00:00,  1.69s/it]\n"
     ]
    },
    {
     "name": "stdout",
     "output_type": "stream",
     "text": [
      "Validation\n"
     ]
    },
    {
     "name": "stderr",
     "output_type": "stream",
     "text": [
      "  0%|          | 0/337 [00:00<?, ?it/s]/opt/conda/lib/python3.10/site-packages/torch/nn/parallel/parallel_apply.py:79: FutureWarning: `torch.cuda.amp.autocast(args...)` is deprecated. Please use `torch.amp.autocast('cuda', args...)` instead.\n",
      "  with torch.cuda.device(device), torch.cuda.stream(stream), autocast(enabled=autocast_enabled):\n",
      "100%|██████████| 337/337 [07:05<00:00,  1.26s/it]\n"
     ]
    },
    {
     "name": "stdout",
     "output_type": "stream",
     "text": [
      "Training loss: 1.260, Training acc: 49.684,      Training precision: 46.710, Training recall: 49.153, Training f1: 45.178\n",
      "Validation loss: 1.212, Validation acc: 53.470,       Validation precision: 50.164, Validation recall: 53.470, Validation f1: 49.835\n",
      "--------------------------------------------------\n",
      "[INFO]: Epoch 5 of 30\n",
      "Training\n"
     ]
    },
    {
     "name": "stderr",
     "output_type": "stream",
     "text": [
      "  0%|          | 0/1099 [00:00<?, ?it/s]/opt/conda/lib/python3.10/site-packages/torch/nn/parallel/parallel_apply.py:79: FutureWarning: `torch.cuda.amp.autocast(args...)` is deprecated. Please use `torch.amp.autocast('cuda', args...)` instead.\n",
      "  with torch.cuda.device(device), torch.cuda.stream(stream), autocast(enabled=autocast_enabled):\n",
      "100%|██████████| 1099/1099 [30:40<00:00,  1.68s/it]\n"
     ]
    },
    {
     "name": "stdout",
     "output_type": "stream",
     "text": [
      "Validation\n"
     ]
    },
    {
     "name": "stderr",
     "output_type": "stream",
     "text": [
      "  0%|          | 0/337 [00:00<?, ?it/s]/opt/conda/lib/python3.10/site-packages/torch/nn/parallel/parallel_apply.py:79: FutureWarning: `torch.cuda.amp.autocast(args...)` is deprecated. Please use `torch.amp.autocast('cuda', args...)` instead.\n",
      "  with torch.cuda.device(device), torch.cuda.stream(stream), autocast(enabled=autocast_enabled):\n",
      "100%|██████████| 337/337 [06:57<00:00,  1.24s/it]\n"
     ]
    },
    {
     "name": "stdout",
     "output_type": "stream",
     "text": [
      "Training loss: 1.252, Training acc: 49.762,      Training precision: 50.877, Training recall: 49.153, Training f1: 44.809\n",
      "Validation loss: 1.189, Validation acc: 55.856,       Validation precision: 51.969, Validation recall: 55.856, Validation f1: 51.790\n",
      "--------------------------------------------------\n",
      "[INFO]: Epoch 6 of 30\n",
      "Training\n"
     ]
    },
    {
     "name": "stderr",
     "output_type": "stream",
     "text": [
      "  0%|          | 0/1099 [00:00<?, ?it/s]/opt/conda/lib/python3.10/site-packages/torch/nn/parallel/parallel_apply.py:79: FutureWarning: `torch.cuda.amp.autocast(args...)` is deprecated. Please use `torch.amp.autocast('cuda', args...)` instead.\n",
      "  with torch.cuda.device(device), torch.cuda.stream(stream), autocast(enabled=autocast_enabled):\n",
      "100%|██████████| 1099/1099 [31:02<00:00,  1.69s/it]\n"
     ]
    },
    {
     "name": "stdout",
     "output_type": "stream",
     "text": [
      "Validation\n"
     ]
    },
    {
     "name": "stderr",
     "output_type": "stream",
     "text": [
      "  0%|          | 0/337 [00:00<?, ?it/s]/opt/conda/lib/python3.10/site-packages/torch/nn/parallel/parallel_apply.py:79: FutureWarning: `torch.cuda.amp.autocast(args...)` is deprecated. Please use `torch.amp.autocast('cuda', args...)` instead.\n",
      "  with torch.cuda.device(device), torch.cuda.stream(stream), autocast(enabled=autocast_enabled):\n",
      "100%|██████████| 337/337 [07:00<00:00,  1.25s/it]\n"
     ]
    },
    {
     "name": "stdout",
     "output_type": "stream",
     "text": [
      "Training loss: 1.238, Training acc: 50.257,      Training precision: 58.475, Training recall: 59.322, Training f1: 56.884\n",
      "Validation loss: 1.205, Validation acc: 54.691,       Validation precision: 52.940, Validation recall: 54.691, Validation f1: 52.325\n",
      "--------------------------------------------------\n",
      "[INFO]: Epoch 7 of 30\n",
      "Training\n"
     ]
    },
    {
     "name": "stderr",
     "output_type": "stream",
     "text": [
      "  0%|          | 0/1099 [00:00<?, ?it/s]/opt/conda/lib/python3.10/site-packages/torch/nn/parallel/parallel_apply.py:79: FutureWarning: `torch.cuda.amp.autocast(args...)` is deprecated. Please use `torch.amp.autocast('cuda', args...)` instead.\n",
      "  with torch.cuda.device(device), torch.cuda.stream(stream), autocast(enabled=autocast_enabled):\n",
      "100%|██████████| 1099/1099 [30:51<00:00,  1.68s/it]\n"
     ]
    },
    {
     "name": "stdout",
     "output_type": "stream",
     "text": [
      "Validation\n"
     ]
    },
    {
     "name": "stderr",
     "output_type": "stream",
     "text": [
      "  0%|          | 0/337 [00:00<?, ?it/s]/opt/conda/lib/python3.10/site-packages/torch/nn/parallel/parallel_apply.py:79: FutureWarning: `torch.cuda.amp.autocast(args...)` is deprecated. Please use `torch.amp.autocast('cuda', args...)` instead.\n",
      "  with torch.cuda.device(device), torch.cuda.stream(stream), autocast(enabled=autocast_enabled):\n",
      "100%|██████████| 337/337 [07:06<00:00,  1.27s/it]\n"
     ]
    },
    {
     "name": "stdout",
     "output_type": "stream",
     "text": [
      "Training loss: 1.234, Training acc: 50.834,      Training precision: 44.909, Training recall: 54.237, Training f1: 48.395\n",
      "Validation loss: 1.169, Validation acc: 55.907,       Validation precision: 51.884, Validation recall: 55.907, Validation f1: 52.034\n",
      "--------------------------------------------------\n",
      "[INFO]: Epoch 8 of 30\n",
      "Training\n"
     ]
    },
    {
     "name": "stderr",
     "output_type": "stream",
     "text": [
      "  0%|          | 0/1099 [00:00<?, ?it/s]/opt/conda/lib/python3.10/site-packages/torch/nn/parallel/parallel_apply.py:79: FutureWarning: `torch.cuda.amp.autocast(args...)` is deprecated. Please use `torch.amp.autocast('cuda', args...)` instead.\n",
      "  with torch.cuda.device(device), torch.cuda.stream(stream), autocast(enabled=autocast_enabled):\n",
      "100%|██████████| 1099/1099 [30:49<00:00,  1.68s/it]\n"
     ]
    },
    {
     "name": "stdout",
     "output_type": "stream",
     "text": [
      "Validation\n"
     ]
    },
    {
     "name": "stderr",
     "output_type": "stream",
     "text": [
      "  0%|          | 0/337 [00:00<?, ?it/s]/opt/conda/lib/python3.10/site-packages/torch/nn/parallel/parallel_apply.py:79: FutureWarning: `torch.cuda.amp.autocast(args...)` is deprecated. Please use `torch.amp.autocast('cuda', args...)` instead.\n",
      "  with torch.cuda.device(device), torch.cuda.stream(stream), autocast(enabled=autocast_enabled):\n",
      "100%|██████████| 337/337 [07:01<00:00,  1.25s/it]\n"
     ]
    },
    {
     "name": "stdout",
     "output_type": "stream",
     "text": [
      "Training loss: 1.223, Training acc: 51.060,      Training precision: 46.692, Training recall: 52.542, Training f1: 48.253\n",
      "Validation loss: 1.176, Validation acc: 55.582,       Validation precision: 51.800, Validation recall: 55.582, Validation f1: 51.669\n",
      "--------------------------------------------------\n",
      "[INFO]: Epoch 9 of 30\n",
      "Training\n"
     ]
    },
    {
     "name": "stderr",
     "output_type": "stream",
     "text": [
      "  0%|          | 0/1099 [00:00<?, ?it/s]/opt/conda/lib/python3.10/site-packages/torch/nn/parallel/parallel_apply.py:79: FutureWarning: `torch.cuda.amp.autocast(args...)` is deprecated. Please use `torch.amp.autocast('cuda', args...)` instead.\n",
      "  with torch.cuda.device(device), torch.cuda.stream(stream), autocast(enabled=autocast_enabled):\n",
      "100%|██████████| 1099/1099 [31:20<00:00,  1.71s/it]\n"
     ]
    },
    {
     "name": "stdout",
     "output_type": "stream",
     "text": [
      "Validation\n"
     ]
    },
    {
     "name": "stderr",
     "output_type": "stream",
     "text": [
      "  0%|          | 0/337 [00:00<?, ?it/s]/opt/conda/lib/python3.10/site-packages/torch/nn/parallel/parallel_apply.py:79: FutureWarning: `torch.cuda.amp.autocast(args...)` is deprecated. Please use `torch.amp.autocast('cuda', args...)` instead.\n",
      "  with torch.cuda.device(device), torch.cuda.stream(stream), autocast(enabled=autocast_enabled):\n",
      "100%|██████████| 337/337 [07:00<00:00,  1.25s/it]\n"
     ]
    },
    {
     "name": "stdout",
     "output_type": "stream",
     "text": [
      "Training loss: 1.216, Training acc: 51.293,      Training precision: 36.136, Training recall: 44.068, Training f1: 39.240\n",
      "Validation loss: 1.173, Validation acc: 54.993,       Validation precision: 53.727, Validation recall: 54.993, Validation f1: 51.729\n",
      "--------------------------------------------------\n",
      "[INFO]: Epoch 10 of 30\n",
      "Training\n"
     ]
    },
    {
     "name": "stderr",
     "output_type": "stream",
     "text": [
      "  0%|          | 0/1099 [00:00<?, ?it/s]/opt/conda/lib/python3.10/site-packages/torch/nn/parallel/parallel_apply.py:79: FutureWarning: `torch.cuda.amp.autocast(args...)` is deprecated. Please use `torch.amp.autocast('cuda', args...)` instead.\n",
      "  with torch.cuda.device(device), torch.cuda.stream(stream), autocast(enabled=autocast_enabled):\n",
      "100%|██████████| 1099/1099 [30:52<00:00,  1.69s/it]\n"
     ]
    },
    {
     "name": "stdout",
     "output_type": "stream",
     "text": [
      "Validation\n"
     ]
    },
    {
     "name": "stderr",
     "output_type": "stream",
     "text": [
      "  0%|          | 0/337 [00:00<?, ?it/s]/opt/conda/lib/python3.10/site-packages/torch/nn/parallel/parallel_apply.py:79: FutureWarning: `torch.cuda.amp.autocast(args...)` is deprecated. Please use `torch.amp.autocast('cuda', args...)` instead.\n",
      "  with torch.cuda.device(device), torch.cuda.stream(stream), autocast(enabled=autocast_enabled):\n",
      "100%|██████████| 337/337 [07:05<00:00,  1.26s/it]\n"
     ]
    },
    {
     "name": "stdout",
     "output_type": "stream",
     "text": [
      "Training loss: 1.212, Training acc: 51.208,      Training precision: 60.796, Training recall: 62.712, Training f1: 58.099\n",
      "Validation loss: 1.160, Validation acc: 55.503,       Validation precision: 53.858, Validation recall: 55.503, Validation f1: 51.528\n",
      "--------------------------------------------------\n",
      "[INFO]: Epoch 11 of 30\n",
      "Training\n"
     ]
    },
    {
     "name": "stderr",
     "output_type": "stream",
     "text": [
      "  0%|          | 0/1099 [00:00<?, ?it/s]/opt/conda/lib/python3.10/site-packages/torch/nn/parallel/parallel_apply.py:79: FutureWarning: `torch.cuda.amp.autocast(args...)` is deprecated. Please use `torch.amp.autocast('cuda', args...)` instead.\n",
      "  with torch.cuda.device(device), torch.cuda.stream(stream), autocast(enabled=autocast_enabled):\n",
      "100%|██████████| 1099/1099 [30:56<00:00,  1.69s/it]\n"
     ]
    },
    {
     "name": "stdout",
     "output_type": "stream",
     "text": [
      "Validation\n"
     ]
    },
    {
     "name": "stderr",
     "output_type": "stream",
     "text": [
      "  0%|          | 0/337 [00:00<?, ?it/s]/opt/conda/lib/python3.10/site-packages/torch/nn/parallel/parallel_apply.py:79: FutureWarning: `torch.cuda.amp.autocast(args...)` is deprecated. Please use `torch.amp.autocast('cuda', args...)` instead.\n",
      "  with torch.cuda.device(device), torch.cuda.stream(stream), autocast(enabled=autocast_enabled):\n",
      "100%|██████████| 337/337 [06:59<00:00,  1.25s/it]\n"
     ]
    },
    {
     "name": "stdout",
     "output_type": "stream",
     "text": [
      "Training loss: 1.205, Training acc: 51.650,      Training precision: 38.931, Training recall: 44.068, Training f1: 40.088\n",
      "Validation loss: 1.144, Validation acc: 56.599,       Validation precision: 53.049, Validation recall: 56.599, Validation f1: 52.976\n",
      "--------------------------------------------------\n",
      "[INFO]: Epoch 12 of 30\n",
      "Training\n"
     ]
    },
    {
     "name": "stderr",
     "output_type": "stream",
     "text": [
      "  0%|          | 0/1099 [00:00<?, ?it/s]/opt/conda/lib/python3.10/site-packages/torch/nn/parallel/parallel_apply.py:79: FutureWarning: `torch.cuda.amp.autocast(args...)` is deprecated. Please use `torch.amp.autocast('cuda', args...)` instead.\n",
      "  with torch.cuda.device(device), torch.cuda.stream(stream), autocast(enabled=autocast_enabled):\n",
      "100%|██████████| 1099/1099 [31:06<00:00,  1.70s/it]\n"
     ]
    },
    {
     "name": "stdout",
     "output_type": "stream",
     "text": [
      "Validation\n"
     ]
    },
    {
     "name": "stderr",
     "output_type": "stream",
     "text": [
      "  0%|          | 0/337 [00:00<?, ?it/s]/opt/conda/lib/python3.10/site-packages/torch/nn/parallel/parallel_apply.py:79: FutureWarning: `torch.cuda.amp.autocast(args...)` is deprecated. Please use `torch.amp.autocast('cuda', args...)` instead.\n",
      "  with torch.cuda.device(device), torch.cuda.stream(stream), autocast(enabled=autocast_enabled):\n",
      "100%|██████████| 337/337 [06:58<00:00,  1.24s/it]\n"
     ]
    },
    {
     "name": "stdout",
     "output_type": "stream",
     "text": [
      "Training loss: 1.205, Training acc: 51.633,      Training precision: 34.224, Training recall: 38.983, Training f1: 35.974\n",
      "Validation loss: 1.222, Validation acc: 52.583,       Validation precision: 56.072, Validation recall: 52.583, Validation f1: 53.164\n",
      "--------------------------------------------------\n",
      "[INFO]: Epoch 13 of 30\n",
      "Training\n"
     ]
    },
    {
     "name": "stderr",
     "output_type": "stream",
     "text": [
      "  0%|          | 0/1099 [00:00<?, ?it/s]/opt/conda/lib/python3.10/site-packages/torch/nn/parallel/parallel_apply.py:79: FutureWarning: `torch.cuda.amp.autocast(args...)` is deprecated. Please use `torch.amp.autocast('cuda', args...)` instead.\n",
      "  with torch.cuda.device(device), torch.cuda.stream(stream), autocast(enabled=autocast_enabled):\n",
      "100%|██████████| 1099/1099 [30:45<00:00,  1.68s/it]\n"
     ]
    },
    {
     "name": "stdout",
     "output_type": "stream",
     "text": [
      "Validation\n"
     ]
    },
    {
     "name": "stderr",
     "output_type": "stream",
     "text": [
      "  0%|          | 0/337 [00:00<?, ?it/s]/opt/conda/lib/python3.10/site-packages/torch/nn/parallel/parallel_apply.py:79: FutureWarning: `torch.cuda.amp.autocast(args...)` is deprecated. Please use `torch.amp.autocast('cuda', args...)` instead.\n",
      "  with torch.cuda.device(device), torch.cuda.stream(stream), autocast(enabled=autocast_enabled):\n",
      "100%|██████████| 337/337 [06:59<00:00,  1.24s/it]\n"
     ]
    },
    {
     "name": "stdout",
     "output_type": "stream",
     "text": [
      "Training loss: 1.200, Training acc: 52.023,      Training precision: 33.714, Training recall: 44.068, Training f1: 36.369\n",
      "Validation loss: 1.147, Validation acc: 55.972,       Validation precision: 53.139, Validation recall: 55.972, Validation f1: 52.435\n",
      "--------------------------------------------------\n",
      "[INFO]: Epoch 14 of 30\n",
      "Training\n"
     ]
    },
    {
     "name": "stderr",
     "output_type": "stream",
     "text": [
      "  0%|          | 0/1099 [00:00<?, ?it/s]/opt/conda/lib/python3.10/site-packages/torch/nn/parallel/parallel_apply.py:79: FutureWarning: `torch.cuda.amp.autocast(args...)` is deprecated. Please use `torch.amp.autocast('cuda', args...)` instead.\n",
      "  with torch.cuda.device(device), torch.cuda.stream(stream), autocast(enabled=autocast_enabled):\n",
      "100%|██████████| 1099/1099 [30:54<00:00,  1.69s/it]\n"
     ]
    },
    {
     "name": "stdout",
     "output_type": "stream",
     "text": [
      "Validation\n"
     ]
    },
    {
     "name": "stderr",
     "output_type": "stream",
     "text": [
      "  0%|          | 0/337 [00:00<?, ?it/s]/opt/conda/lib/python3.10/site-packages/torch/nn/parallel/parallel_apply.py:79: FutureWarning: `torch.cuda.amp.autocast(args...)` is deprecated. Please use `torch.amp.autocast('cuda', args...)` instead.\n",
      "  with torch.cuda.device(device), torch.cuda.stream(stream), autocast(enabled=autocast_enabled):\n",
      "100%|██████████| 337/337 [06:56<00:00,  1.24s/it]\n"
     ]
    },
    {
     "name": "stdout",
     "output_type": "stream",
     "text": [
      "Training loss: 1.199, Training acc: 51.752,      Training precision: 61.584, Training recall: 61.017, Training f1: 59.191\n",
      "Validation loss: 1.169, Validation acc: 54.055,       Validation precision: 54.292, Validation recall: 54.055, Validation f1: 53.023\n",
      "--------------------------------------------------\n",
      "[INFO]: Epoch 15 of 30\n",
      "Training\n"
     ]
    },
    {
     "name": "stderr",
     "output_type": "stream",
     "text": [
      "  0%|          | 0/1099 [00:00<?, ?it/s]/opt/conda/lib/python3.10/site-packages/torch/nn/parallel/parallel_apply.py:79: FutureWarning: `torch.cuda.amp.autocast(args...)` is deprecated. Please use `torch.amp.autocast('cuda', args...)` instead.\n",
      "  with torch.cuda.device(device), torch.cuda.stream(stream), autocast(enabled=autocast_enabled):\n",
      "100%|██████████| 1099/1099 [30:41<00:00,  1.68s/it]\n"
     ]
    },
    {
     "name": "stdout",
     "output_type": "stream",
     "text": [
      "Validation\n"
     ]
    },
    {
     "name": "stderr",
     "output_type": "stream",
     "text": [
      "  0%|          | 0/337 [00:00<?, ?it/s]/opt/conda/lib/python3.10/site-packages/torch/nn/parallel/parallel_apply.py:79: FutureWarning: `torch.cuda.amp.autocast(args...)` is deprecated. Please use `torch.amp.autocast('cuda', args...)` instead.\n",
      "  with torch.cuda.device(device), torch.cuda.stream(stream), autocast(enabled=autocast_enabled):\n",
      "100%|██████████| 337/337 [07:08<00:00,  1.27s/it]\n"
     ]
    },
    {
     "name": "stdout",
     "output_type": "stream",
     "text": [
      "Training loss: 1.195, Training acc: 52.143,      Training precision: 57.910, Training recall: 55.932, Training f1: 52.499\n",
      "Validation loss: 1.148, Validation acc: 56.502,       Validation precision: 53.050, Validation recall: 56.502, Validation f1: 53.704\n",
      "--------------------------------------------------\n",
      "[INFO]: Epoch 16 of 30\n",
      "Training\n"
     ]
    },
    {
     "name": "stderr",
     "output_type": "stream",
     "text": [
      "  0%|          | 0/1099 [00:00<?, ?it/s]/opt/conda/lib/python3.10/site-packages/torch/nn/parallel/parallel_apply.py:79: FutureWarning: `torch.cuda.amp.autocast(args...)` is deprecated. Please use `torch.amp.autocast('cuda', args...)` instead.\n",
      "  with torch.cuda.device(device), torch.cuda.stream(stream), autocast(enabled=autocast_enabled):\n",
      "100%|██████████| 1099/1099 [30:41<00:00,  1.68s/it]\n"
     ]
    },
    {
     "name": "stdout",
     "output_type": "stream",
     "text": [
      "Validation\n"
     ]
    },
    {
     "name": "stderr",
     "output_type": "stream",
     "text": [
      "  0%|          | 0/337 [00:00<?, ?it/s]/opt/conda/lib/python3.10/site-packages/torch/nn/parallel/parallel_apply.py:79: FutureWarning: `torch.cuda.amp.autocast(args...)` is deprecated. Please use `torch.amp.autocast('cuda', args...)` instead.\n",
      "  with torch.cuda.device(device), torch.cuda.stream(stream), autocast(enabled=autocast_enabled):\n",
      "100%|██████████| 337/337 [07:01<00:00,  1.25s/it]\n"
     ]
    },
    {
     "name": "stdout",
     "output_type": "stream",
     "text": [
      "Training loss: 1.192, Training acc: 51.998,      Training precision: 43.974, Training recall: 45.763, Training f1: 43.583\n",
      "Validation loss: 1.153, Validation acc: 55.685,       Validation precision: 53.151, Validation recall: 55.685, Validation f1: 52.483\n",
      "--------------------------------------------------\n",
      "[INFO]: Epoch 17 of 30\n",
      "Training\n"
     ]
    },
    {
     "name": "stderr",
     "output_type": "stream",
     "text": [
      "  0%|          | 0/1099 [00:00<?, ?it/s]/opt/conda/lib/python3.10/site-packages/torch/nn/parallel/parallel_apply.py:79: FutureWarning: `torch.cuda.amp.autocast(args...)` is deprecated. Please use `torch.amp.autocast('cuda', args...)` instead.\n",
      "  with torch.cuda.device(device), torch.cuda.stream(stream), autocast(enabled=autocast_enabled):\n",
      "100%|██████████| 1099/1099 [31:01<00:00,  1.69s/it]\n"
     ]
    },
    {
     "name": "stdout",
     "output_type": "stream",
     "text": [
      "Validation\n"
     ]
    },
    {
     "name": "stderr",
     "output_type": "stream",
     "text": [
      "  0%|          | 0/337 [00:00<?, ?it/s]/opt/conda/lib/python3.10/site-packages/torch/nn/parallel/parallel_apply.py:79: FutureWarning: `torch.cuda.amp.autocast(args...)` is deprecated. Please use `torch.amp.autocast('cuda', args...)` instead.\n",
      "  with torch.cuda.device(device), torch.cuda.stream(stream), autocast(enabled=autocast_enabled):\n",
      "100%|██████████| 337/337 [07:02<00:00,  1.25s/it]\n"
     ]
    },
    {
     "name": "stdout",
     "output_type": "stream",
     "text": [
      "Training loss: 1.171, Training acc: 52.820,      Training precision: 58.232, Training recall: 59.322, Training f1: 57.958\n",
      "Validation loss: 1.152, Validation acc: 55.963,       Validation precision: 53.962, Validation recall: 55.963, Validation f1: 53.653\n",
      "--------------------------------------------------\n",
      "[INFO]: Epoch 18 of 30\n",
      "Training\n"
     ]
    },
    {
     "name": "stderr",
     "output_type": "stream",
     "text": [
      "  0%|          | 0/1099 [00:00<?, ?it/s]/opt/conda/lib/python3.10/site-packages/torch/nn/parallel/parallel_apply.py:79: FutureWarning: `torch.cuda.amp.autocast(args...)` is deprecated. Please use `torch.amp.autocast('cuda', args...)` instead.\n",
      "  with torch.cuda.device(device), torch.cuda.stream(stream), autocast(enabled=autocast_enabled):\n",
      "100%|██████████| 1099/1099 [30:57<00:00,  1.69s/it]\n"
     ]
    },
    {
     "name": "stdout",
     "output_type": "stream",
     "text": [
      "Validation\n"
     ]
    },
    {
     "name": "stderr",
     "output_type": "stream",
     "text": [
      "  0%|          | 0/337 [00:00<?, ?it/s]/opt/conda/lib/python3.10/site-packages/torch/nn/parallel/parallel_apply.py:79: FutureWarning: `torch.cuda.amp.autocast(args...)` is deprecated. Please use `torch.amp.autocast('cuda', args...)` instead.\n",
      "  with torch.cuda.device(device), torch.cuda.stream(stream), autocast(enabled=autocast_enabled):\n",
      "100%|██████████| 337/337 [06:53<00:00,  1.23s/it]\n"
     ]
    },
    {
     "name": "stdout",
     "output_type": "stream",
     "text": [
      "Training loss: 1.168, Training acc: 53.082,      Training precision: 65.153, Training recall: 66.102, Training f1: 64.618\n",
      "Validation loss: 1.149, Validation acc: 56.042,       Validation precision: 53.590, Validation recall: 56.042, Validation f1: 53.142\n",
      "--------------------------------------------------\n",
      "[INFO]: Early stopping triggered.\n",
      "TRAINING COMPLETE\n"
     ]
    }
   ],
   "source": [
    "# lists to keep track of losses and accuracies\n",
    "train_loss, valid_loss = [], []\n",
    "train_acc, valid_acc = [], []\n",
    "# start the training\n",
    "for epoch in range(epochs):\n",
    "    print(f\"[INFO]: Epoch {epoch+1} of {epochs}\")\n",
    "    train_epoch_loss, train_epoch_acc, train_precision, train_recall, train_f1 = train(custom_model, train_loader, optimizer, criterion)\n",
    "    valid_epoch_loss, valid_epoch_acc, valid_precision, valid_recall, valid_f1 = validate(custom_model, valid_loader,  criterion)\n",
    "\n",
    "    train_loss.append(train_epoch_loss)\n",
    "    valid_loss.append(valid_epoch_loss)\n",
    "    train_acc.append(train_epoch_acc)\n",
    "    valid_acc.append(valid_epoch_acc)\n",
    "\n",
    "    print(f\"Training loss: {train_epoch_loss:.3f}, Training acc: {train_epoch_acc:.3f},\\\n",
    "      Training precision: {train_precision:.3f}, Training recall: {train_recall:.3f}, Training f1: {train_f1:.3f}\")\n",
    "    print(f\"Validation loss: {valid_epoch_loss:.3f}, Validation acc: {valid_epoch_acc:.3f}, \\\n",
    "      Validation precision: {valid_precision:.3f}, Validation recall: {valid_recall:.3f}, Validation f1: {valid_f1:.3f}\")\n",
    "    print('-'*50)\n",
    "    time.sleep(5)\n",
    "\n",
    "    # Step the scheduler\n",
    "    scheduler.step(valid_epoch_loss)\n",
    "\n",
    "    # Check for early stopping\n",
    "    early_stopping(valid_epoch_loss)\n",
    "    if early_stopping.early_stop:\n",
    "        print(\"[INFO]: Early stopping triggered.\")\n",
    "        break\n",
    "\n",
    "    # Save the best model based on validation loss\n",
    "    if valid_epoch_loss == early_stopping.best_loss:\n",
    "        save_model(epoch+1, custom_model, optimizer, criterion)\n",
    "\n",
    "\n",
    "print('TRAINING COMPLETE')"
   ]
  },
  {
   "cell_type": "code",
   "execution_count": null,
   "id": "ea728ca9",
   "metadata": {
    "id": "Z-L-J4W9KTOP",
    "papermill": {
     "duration": 2.179079,
     "end_time": "2024-11-17T02:59:30.603745",
     "exception": false,
     "start_time": "2024-11-17T02:59:28.424666",
     "status": "completed"
    },
    "tags": []
   },
   "outputs": [],
   "source": []
  },
  {
   "cell_type": "markdown",
   "id": "2b628c76",
   "metadata": {
    "id": "1we2-RKcShHE",
    "papermill": {
     "duration": 2.113661,
     "end_time": "2024-11-17T02:59:34.847768",
     "exception": false,
     "start_time": "2024-11-17T02:59:32.734107",
     "status": "completed"
    },
    "tags": []
   },
   "source": [
    "**Save the model**"
   ]
  },
  {
   "cell_type": "code",
   "execution_count": 31,
   "id": "382896c4",
   "metadata": {
    "execution": {
     "iopub.execute_input": "2024-11-17T02:59:39.079380Z",
     "iopub.status.busy": "2024-11-17T02:59:39.078990Z",
     "iopub.status.idle": "2024-11-17T02:59:39.083273Z",
     "shell.execute_reply": "2024-11-17T02:59:39.082363Z"
    },
    "id": "DnYAFjPGSiv9",
    "papermill": {
     "duration": 2.12922,
     "end_time": "2024-11-17T02:59:39.085179",
     "exception": false,
     "start_time": "2024-11-17T02:59:36.955959",
     "status": "completed"
    },
    "tags": []
   },
   "outputs": [],
   "source": [
    "# save the trained model weights\n",
    "#save_model(epochs, custom_model, optimizer, criterion)"
   ]
  },
  {
   "cell_type": "code",
   "execution_count": null,
   "id": "b5199f00",
   "metadata": {
    "id": "zzMvjh2ASkco",
    "papermill": {
     "duration": 2.139028,
     "end_time": "2024-11-17T02:59:43.331149",
     "exception": false,
     "start_time": "2024-11-17T02:59:41.192121",
     "status": "completed"
    },
    "tags": []
   },
   "outputs": [],
   "source": []
  },
  {
   "cell_type": "markdown",
   "id": "901e2466",
   "metadata": {
    "id": "cMTAzg1cSlG0",
    "papermill": {
     "duration": 2.213009,
     "end_time": "2024-11-17T02:59:47.584991",
     "exception": false,
     "start_time": "2024-11-17T02:59:45.371982",
     "status": "completed"
    },
    "tags": []
   },
   "source": [
    "**Save the loss and accuracy images**"
   ]
  },
  {
   "cell_type": "code",
   "execution_count": 32,
   "id": "f5632fb7",
   "metadata": {
    "execution": {
     "iopub.execute_input": "2024-11-17T02:59:51.838415Z",
     "iopub.status.busy": "2024-11-17T02:59:51.838009Z",
     "iopub.status.idle": "2024-11-17T02:59:52.600168Z",
     "shell.execute_reply": "2024-11-17T02:59:52.599294Z"
    },
    "id": "igmJ9ZwFSoxi",
    "outputId": "a748a0fa-4b96-4ea7-e7db-18e43ad92385",
    "papermill": {
     "duration": 2.902311,
     "end_time": "2024-11-17T02:59:52.602252",
     "exception": false,
     "start_time": "2024-11-17T02:59:49.699941",
     "status": "completed"
    },
    "tags": []
   },
   "outputs": [
    {
     "data": {
      "image/png": "[encoded data removed]",
      "text/plain": [
       "<Figure size 800x600 with 1 Axes>"
      ]
     },
     "metadata": {},
     "output_type": "display_data"
    },
    {
     "data": {
      "image/png": "[encoded data removed]",
      "text/plain": [
       "<Figure size 800x600 with 1 Axes>"
      ]
     },
     "metadata": {},
     "output_type": "display_data"
    }
   ],
   "source": [
    "# save the loss and accuracy plots\n",
    "save_plots(train_acc, valid_acc, train_loss, valid_loss)"
   ]
  },
  {
   "cell_type": "code",
   "execution_count": null,
   "id": "47470702",
   "metadata": {
    "id": "qtMW9RlxUVUq",
    "papermill": {
     "duration": 2.173668,
     "end_time": "2024-11-17T02:59:56.837881",
     "exception": false,
     "start_time": "2024-11-17T02:59:54.664213",
     "status": "completed"
    },
    "tags": []
   },
   "outputs": [],
   "source": []
  },
  {
   "cell_type": "markdown",
   "id": "c439b3f9",
   "metadata": {
    "id": "bs9ljDpdY6yq",
    "papermill": {
     "duration": 2.116106,
     "end_time": "2024-11-17T03:00:01.070777",
     "exception": false,
     "start_time": "2024-11-17T02:59:58.954671",
     "status": "completed"
    },
    "tags": []
   },
   "source": [
    "**Test evaluation**"
   ]
  },
  {
   "cell_type": "code",
   "execution_count": 33,
   "id": "29d19ec3",
   "metadata": {
    "execution": {
     "iopub.execute_input": "2024-11-17T03:00:05.252599Z",
     "iopub.status.busy": "2024-11-17T03:00:05.252193Z",
     "iopub.status.idle": "2024-11-17T03:06:55.386787Z",
     "shell.execute_reply": "2024-11-17T03:06:55.385822Z"
    },
    "id": "dKjDGwf5bCuA",
    "outputId": "384dcdac-ea3f-4e23-c3f0-a56ff888abb5",
    "papermill": {
     "duration": 412.250524,
     "end_time": "2024-11-17T03:06:55.389053",
     "exception": false,
     "start_time": "2024-11-17T03:00:03.138529",
     "status": "completed"
    },
    "tags": []
   },
   "outputs": [
    {
     "name": "stderr",
     "output_type": "stream",
     "text": [
      "  0%|          | 0/337 [00:00<?, ?it/s]/opt/conda/lib/python3.10/site-packages/torch/nn/parallel/parallel_apply.py:79: FutureWarning: `torch.cuda.amp.autocast(args...)` is deprecated. Please use `torch.amp.autocast('cuda', args...)` instead.\n",
      "  with torch.cuda.device(device), torch.cuda.stream(stream), autocast(enabled=autocast_enabled):\n",
      "100%|██████████| 337/337 [06:49<00:00,  1.22s/it]\n"
     ]
    },
    {
     "name": "stdout",
     "output_type": "stream",
     "text": [
      "\n",
      "\n",
      "\n",
      "Precision: 0.5358958043928364\n",
      "Recall: 0.560419664825217\n",
      "F1-score: 0.5314243251503201\n",
      "Classification Report:\n",
      "              precision    recall  f1-score   support\n",
      "\n",
      "        High       0.28      0.32      0.30      1609\n",
      "         Low       0.30      0.10      0.15      2599\n",
      "    Moderate       0.19      0.27      0.22      1772\n",
      "Non-burnable       0.71      0.85      0.77      5091\n",
      "   Very_High       0.35      0.06      0.11      1438\n",
      "    Very_Low       0.63      0.72      0.67      8448\n",
      "       Water       0.90      0.65      0.75       584\n",
      "\n",
      "    accuracy                           0.56     21541\n",
      "   macro avg       0.48      0.42      0.42     21541\n",
      "weighted avg       0.54      0.56      0.53     21541\n",
      "\n",
      "\\Confusion Matrix\n"
     ]
    },
    {
     "data": {
      "image/png": "[encoded data removed]",
      "text/plain": [
       "<Figure size 1000x700 with 2 Axes>"
      ]
     },
     "metadata": {},
     "output_type": "display_data"
    }
   ],
   "source": [
    "save_confusion_matrix(custom_model, valid_loader, label_names)"
   ]
  },
  {
   "cell_type": "code",
   "execution_count": null,
   "id": "5fe035dc",
   "metadata": {
    "id": "BP-DbHhfb9ro",
    "papermill": {
     "duration": 2.163,
     "end_time": "2024-11-17T03:06:59.714494",
     "exception": false,
     "start_time": "2024-11-17T03:06:57.551494",
     "status": "completed"
    },
    "tags": []
   },
   "outputs": [],
   "source": []
  },
  {
   "cell_type": "code",
   "execution_count": null,
   "id": "daed8573",
   "metadata": {
    "id": "19EoEFn6udZl",
    "outputId": "ff6f1129-2c7a-4b58-c008-9717a6ae3e65",
    "papermill": {
     "duration": 2.167903,
     "end_time": "2024-11-17T03:07:04.063636",
     "exception": false,
     "start_time": "2024-11-17T03:07:01.895733",
     "status": "completed"
    },
    "tags": []
   },
   "outputs": [],
   "source": []
  },
  {
   "cell_type": "code",
   "execution_count": null,
   "id": "e58d0a50",
   "metadata": {
    "id": "8gwe546PufnA",
    "papermill": {
     "duration": 2.208553,
     "end_time": "2024-11-17T03:07:08.440248",
     "exception": false,
     "start_time": "2024-11-17T03:07:06.231695",
     "status": "completed"
    },
    "tags": []
   },
   "outputs": [],
   "source": []
  }
 ],
 "metadata": {
  "accelerator": "GPU",
  "colab": {
   "gpuType": "T4",
   "provenance": []
  },
  "kaggle": {
   "accelerator": "nvidiaTeslaT4",
   "dataSources": [
    {
     "datasetId": 6088571,
     "sourceId": 9909456,
     "sourceType": "datasetVersion"
    },
    {
     "sourceId": 203963057,
     "sourceType": "kernelVersion"
    },
    {
     "isSourceIdPinned": true,
     "modelId": 165690,
     "modelInstanceId": 143082,
     "sourceId": 168181,
     "sourceType": "modelInstanceVersion"
    }
   ],
   "dockerImageVersionId": 30787,
   "isGpuEnabled": true,
   "isInternetEnabled": true,
   "language": "python",
   "sourceType": "notebook"
  },
  "kernelspec": {
   "display_name": "Python 3",
   "language": "python",
   "name": "python3"
  },
  "language_info": {
   "codemirror_mode": {
    "name": "ipython",
    "version": 3
   },
   "file_extension": ".py",
   "mimetype": "text/x-python",
   "name": "python",
   "nbconvert_exporter": "python",
   "pygments_lexer": "ipython3",
   "version": "3.10.14"
  },
  "papermill": {
   "default_parameters": {},
   "duration": 42328.154338,
   "end_time": "2024-11-17T03:07:14.132417",
   "environment_variables": {},
   "exception": null,
   "input_path": "__notebook__.ipynb",
   "output_path": "__notebook__.ipynb",
   "parameters": {},
   "start_time": "2024-11-16T15:21:45.978079",
   "version": "2.6.0"
  },
  "widgets": {
   "application/vnd.jupyter.widget-state+json": {
    "state": {
     "08e90310ed6b46a28442e72dcbee2863": {
      "model_module": "@jupyter-widgets/controls",
      "model_module_version": "1.5.0",
      "model_name": "DescriptionStyleModel",
      "state": {
       "_model_module": "@jupyter-widgets/controls",
       "_model_module_version": "1.5.0",
       "_model_name": "DescriptionStyleModel",
       "_view_count": null,
       "_view_module": "@jupyter-widgets/base",
       "_view_module_version": "1.2.0",
       "_view_name": "StyleView",
       "description_width": ""
      }
     },
     "200dd63fac7a487e8a9c1eab78571f9f": {
      "model_module": "@jupyter-widgets/controls",
      "model_module_version": "1.5.0",
      "model_name": "HTMLModel",
      "state": {
       "_dom_classes": [],
       "_model_module": "@jupyter-widgets/controls",
       "_model_module_version": "1.5.0",
       "_model_name": "HTMLModel",
       "_view_count": null,
       "_view_module": "@jupyter-widgets/controls",
       "_view_module_version": "1.5.0",
       "_view_name": "HTMLView",
       "description": "",
       "description_tooltip": null,
       "layout": "IPY_MODEL_5fd5f27ba8be4a85905b4e0482432aee",
       "placeholder": "​",
       "style": "IPY_MODEL_3d0f8acabcaa434299f33f3f1abb3b28",
       "value": "config.json: 100%"
      }
     },
     "28dd79d7d03b4e9ba82d1ace9221594b": {
      "model_module": "@jupyter-widgets/controls",
      "model_module_version": "1.5.0",
      "model_name": "FloatProgressModel",
      "state": {
       "_dom_classes": [],
       "_model_module": "@jupyter-widgets/controls",
       "_model_module_version": "1.5.0",
       "_model_name": "FloatProgressModel",
       "_view_count": null,
       "_view_module": "@jupyter-widgets/controls",
       "_view_module_version": "1.5.0",
       "_view_name": "ProgressView",
       "bar_style": "success",
       "description": "",
       "description_tooltip": null,
       "layout": "IPY_MODEL_a8696db9a50e45f09d851ea8f2c96934",
       "max": 829.0,
       "min": 0.0,
       "orientation": "horizontal",
       "style": "IPY_MODEL_49f3e2e5a07c42c0aa48aa2c7f759574",
       "value": 829.0
      }
     },
     "2c8a98c72f604957934e72db5eafd4b2": {
      "model_module": "@jupyter-widgets/controls",
      "model_module_version": "1.5.0",
      "model_name": "HTMLModel",
      "state": {
       "_dom_classes": [],
       "_model_module": "@jupyter-widgets/controls",
       "_model_module_version": "1.5.0",
       "_model_name": "HTMLModel",
       "_view_count": null,
       "_view_module": "@jupyter-widgets/controls",
       "_view_module_version": "1.5.0",
       "_view_name": "HTMLView",
       "description": "",
       "description_tooltip": null,
       "layout": "IPY_MODEL_e8ff65dbd7aa4026abedaa5d3bd07005",
       "placeholder": "​",
       "style": "IPY_MODEL_53b57f33e424482183836e50fa269288",
       "value": " 343M/343M [00:08&lt;00:00, 42.8MB/s]"
      }
     },
     "3d0f8acabcaa434299f33f3f1abb3b28": {
      "model_module": "@jupyter-widgets/controls",
      "model_module_version": "1.5.0",
      "model_name": "DescriptionStyleModel",
      "state": {
       "_model_module": "@jupyter-widgets/controls",
       "_model_module_version": "1.5.0",
       "_model_name": "DescriptionStyleModel",
       "_view_count": null,
       "_view_module": "@jupyter-widgets/base",
       "_view_module_version": "1.2.0",
       "_view_name": "StyleView",
       "description_width": ""
      }
     },
     "49f3e2e5a07c42c0aa48aa2c7f759574": {
      "model_module": "@jupyter-widgets/controls",
      "model_module_version": "1.5.0",
      "model_name": "ProgressStyleModel",
      "state": {
       "_model_module": "@jupyter-widgets/controls",
       "_model_module_version": "1.5.0",
       "_model_name": "ProgressStyleModel",
       "_view_count": null,
       "_view_module": "@jupyter-widgets/base",
       "_view_module_version": "1.2.0",
       "_view_name": "StyleView",
       "bar_color": null,
       "description_width": ""
      }
     },
     "53b57f33e424482183836e50fa269288": {
      "model_module": "@jupyter-widgets/controls",
      "model_module_version": "1.5.0",
      "model_name": "DescriptionStyleModel",
      "state": {
       "_model_module": "@jupyter-widgets/controls",
       "_model_module_version": "1.5.0",
       "_model_name": "DescriptionStyleModel",
       "_view_count": null,
       "_view_module": "@jupyter-widgets/base",
       "_view_module_version": "1.2.0",
       "_view_name": "StyleView",
       "description_width": ""
      }
     },
     "5708d2acb18a48af8e09d9b13a842896": {
      "model_module": "@jupyter-widgets/controls",
      "model_module_version": "1.5.0",
      "model_name": "DescriptionStyleModel",
      "state": {
       "_model_module": "@jupyter-widgets/controls",
       "_model_module_version": "1.5.0",
       "_model_name": "DescriptionStyleModel",
       "_view_count": null,
       "_view_module": "@jupyter-widgets/base",
       "_view_module_version": "1.2.0",
       "_view_name": "StyleView",
       "description_width": ""
      }
     },
     "5fd5f27ba8be4a85905b4e0482432aee": {
      "model_module": "@jupyter-widgets/base",
      "model_module_version": "1.2.0",
      "model_name": "LayoutModel",
      "state": {
       "_model_module": "@jupyter-widgets/base",
       "_model_module_version": "1.2.0",
       "_model_name": "LayoutModel",
       "_view_count": null,
       "_view_module": "@jupyter-widgets/base",
       "_view_module_version": "1.2.0",
       "_view_name": "LayoutView",
       "align_content": null,
       "align_items": null,
       "align_self": null,
       "border": null,
       "bottom": null,
       "display": null,
       "flex": null,
       "flex_flow": null,
       "grid_area": null,
       "grid_auto_columns": null,
       "grid_auto_flow": null,
       "grid_auto_rows": null,
       "grid_column": null,
       "grid_gap": null,
       "grid_row": null,
       "grid_template_areas": null,
       "grid_template_columns": null,
       "grid_template_rows": null,
       "height": null,
       "justify_content": null,
       "justify_items": null,
       "left": null,
       "margin": null,
       "max_height": null,
       "max_width": null,
       "min_height": null,
       "min_width": null,
       "object_fit": null,
       "object_position": null,
       "order": null,
       "overflow": null,
       "overflow_x": null,
       "overflow_y": null,
       "padding": null,
       "right": null,
       "top": null,
       "visibility": null,
       "width": null
      }
     },
     "6dd312c696cd43828a7201da450fd7ce": {
      "model_module": "@jupyter-widgets/controls",
      "model_module_version": "1.5.0",
      "model_name": "HTMLModel",
      "state": {
       "_dom_classes": [],
       "_model_module": "@jupyter-widgets/controls",
       "_model_module_version": "1.5.0",
       "_model_name": "HTMLModel",
       "_view_count": null,
       "_view_module": "@jupyter-widgets/controls",
       "_view_module_version": "1.5.0",
       "_view_name": "HTMLView",
       "description": "",
       "description_tooltip": null,
       "layout": "IPY_MODEL_df7bd632ac6c4d84bf4664e0f4dc7f8c",
       "placeholder": "​",
       "style": "IPY_MODEL_5708d2acb18a48af8e09d9b13a842896",
       "value": "model.safetensors: 100%"
      }
     },
     "6f8668c99ce740adb423ad3e13773a91": {
      "model_module": "@jupyter-widgets/base",
      "model_module_version": "1.2.0",
      "model_name": "LayoutModel",
      "state": {
       "_model_module": "@jupyter-widgets/base",
       "_model_module_version": "1.2.0",
       "_model_name": "LayoutModel",
       "_view_count": null,
       "_view_module": "@jupyter-widgets/base",
       "_view_module_version": "1.2.0",
       "_view_name": "LayoutView",
       "align_content": null,
       "align_items": null,
       "align_self": null,
       "border": null,
       "bottom": null,
       "display": null,
       "flex": null,
       "flex_flow": null,
       "grid_area": null,
       "grid_auto_columns": null,
       "grid_auto_flow": null,
       "grid_auto_rows": null,
       "grid_column": null,
       "grid_gap": null,
       "grid_row": null,
       "grid_template_areas": null,
       "grid_template_columns": null,
       "grid_template_rows": null,
       "height": null,
       "justify_content": null,
       "justify_items": null,
       "left": null,
       "margin": null,
       "max_height": null,
       "max_width": null,
       "min_height": null,
       "min_width": null,
       "object_fit": null,
       "object_position": null,
       "order": null,
       "overflow": null,
       "overflow_x": null,
       "overflow_y": null,
       "padding": null,
       "right": null,
       "top": null,
       "visibility": null,
       "width": null
      }
     },
     "76cb45d82f024dfa99ccc8b22744749f": {
      "model_module": "@jupyter-widgets/controls",
      "model_module_version": "1.5.0",
      "model_name": "HBoxModel",
      "state": {
       "_dom_classes": [],
       "_model_module": "@jupyter-widgets/controls",
       "_model_module_version": "1.5.0",
       "_model_name": "HBoxModel",
       "_view_count": null,
       "_view_module": "@jupyter-widgets/controls",
       "_view_module_version": "1.5.0",
       "_view_name": "HBoxView",
       "box_style": "",
       "children": [
        "IPY_MODEL_6dd312c696cd43828a7201da450fd7ce",
        "IPY_MODEL_b95102ae7e32428ba4d89b253e3ecd11",
        "IPY_MODEL_2c8a98c72f604957934e72db5eafd4b2"
       ],
       "layout": "IPY_MODEL_6f8668c99ce740adb423ad3e13773a91"
      }
     },
     "9291f4b3b8d74872b14a74ab7cbb88df": {
      "model_module": "@jupyter-widgets/base",
      "model_module_version": "1.2.0",
      "model_name": "LayoutModel",
      "state": {
       "_model_module": "@jupyter-widgets/base",
       "_model_module_version": "1.2.0",
       "_model_name": "LayoutModel",
       "_view_count": null,
       "_view_module": "@jupyter-widgets/base",
       "_view_module_version": "1.2.0",
       "_view_name": "LayoutView",
       "align_content": null,
       "align_items": null,
       "align_self": null,
       "border": null,
       "bottom": null,
       "display": null,
       "flex": null,
       "flex_flow": null,
       "grid_area": null,
       "grid_auto_columns": null,
       "grid_auto_flow": null,
       "grid_auto_rows": null,
       "grid_column": null,
       "grid_gap": null,
       "grid_row": null,
       "grid_template_areas": null,
       "grid_template_columns": null,
       "grid_template_rows": null,
       "height": null,
       "justify_content": null,
       "justify_items": null,
       "left": null,
       "margin": null,
       "max_height": null,
       "max_width": null,
       "min_height": null,
       "min_width": null,
       "object_fit": null,
       "object_position": null,
       "order": null,
       "overflow": null,
       "overflow_x": null,
       "overflow_y": null,
       "padding": null,
       "right": null,
       "top": null,
       "visibility": null,
       "width": null
      }
     },
     "a8696db9a50e45f09d851ea8f2c96934": {
      "model_module": "@jupyter-widgets/base",
      "model_module_version": "1.2.0",
      "model_name": "LayoutModel",
      "state": {
       "_model_module": "@jupyter-widgets/base",
       "_model_module_version": "1.2.0",
       "_model_name": "LayoutModel",
       "_view_count": null,
       "_view_module": "@jupyter-widgets/base",
       "_view_module_version": "1.2.0",
       "_view_name": "LayoutView",
       "align_content": null,
       "align_items": null,
       "align_self": null,
       "border": null,
       "bottom": null,
       "display": null,
       "flex": null,
       "flex_flow": null,
       "grid_area": null,
       "grid_auto_columns": null,
       "grid_auto_flow": null,
       "grid_auto_rows": null,
       "grid_column": null,
       "grid_gap": null,
       "grid_row": null,
       "grid_template_areas": null,
       "grid_template_columns": null,
       "grid_template_rows": null,
       "height": null,
       "justify_content": null,
       "justify_items": null,
       "left": null,
       "margin": null,
       "max_height": null,
       "max_width": null,
       "min_height": null,
       "min_width": null,
       "object_fit": null,
       "object_position": null,
       "order": null,
       "overflow": null,
       "overflow_x": null,
       "overflow_y": null,
       "padding": null,
       "right": null,
       "top": null,
       "visibility": null,
       "width": null
      }
     },
     "b95102ae7e32428ba4d89b253e3ecd11": {
      "model_module": "@jupyter-widgets/controls",
      "model_module_version": "1.5.0",
      "model_name": "FloatProgressModel",
      "state": {
       "_dom_classes": [],
       "_model_module": "@jupyter-widgets/controls",
       "_model_module_version": "1.5.0",
       "_model_name": "FloatProgressModel",
       "_view_count": null,
       "_view_module": "@jupyter-widgets/controls",
       "_view_module_version": "1.5.0",
       "_view_name": "ProgressView",
       "bar_style": "success",
       "description": "",
       "description_tooltip": null,
       "layout": "IPY_MODEL_c9e0f33a15f94bd9991f83ae5f3ed668",
       "max": 343239472.0,
       "min": 0.0,
       "orientation": "horizontal",
       "style": "IPY_MODEL_ebd72f50bec7472dbdb163d071f3ff48",
       "value": 343239472.0
      }
     },
     "c5fe644649f04bebb153a6a6c96a3616": {
      "model_module": "@jupyter-widgets/controls",
      "model_module_version": "1.5.0",
      "model_name": "HBoxModel",
      "state": {
       "_dom_classes": [],
       "_model_module": "@jupyter-widgets/controls",
       "_model_module_version": "1.5.0",
       "_model_name": "HBoxModel",
       "_view_count": null,
       "_view_module": "@jupyter-widgets/controls",
       "_view_module_version": "1.5.0",
       "_view_name": "HBoxView",
       "box_style": "",
       "children": [
        "IPY_MODEL_200dd63fac7a487e8a9c1eab78571f9f",
        "IPY_MODEL_28dd79d7d03b4e9ba82d1ace9221594b",
        "IPY_MODEL_f49ebab1f88f4b038d0829d016617f0c"
       ],
       "layout": "IPY_MODEL_9291f4b3b8d74872b14a74ab7cbb88df"
      }
     },
     "c76f32ce448140fe9aadfaa859e84c74": {
      "model_module": "@jupyter-widgets/base",
      "model_module_version": "1.2.0",
      "model_name": "LayoutModel",
      "state": {
       "_model_module": "@jupyter-widgets/base",
       "_model_module_version": "1.2.0",
       "_model_name": "LayoutModel",
       "_view_count": null,
       "_view_module": "@jupyter-widgets/base",
       "_view_module_version": "1.2.0",
       "_view_name": "LayoutView",
       "align_content": null,
       "align_items": null,
       "align_self": null,
       "border": null,
       "bottom": null,
       "display": null,
       "flex": null,
       "flex_flow": null,
       "grid_area": null,
       "grid_auto_columns": null,
       "grid_auto_flow": null,
       "grid_auto_rows": null,
       "grid_column": null,
       "grid_gap": null,
       "grid_row": null,
       "grid_template_areas": null,
       "grid_template_columns": null,
       "grid_template_rows": null,
       "height": null,
       "justify_content": null,
       "justify_items": null,
       "left": null,
       "margin": null,
       "max_height": null,
       "max_width": null,
       "min_height": null,
       "min_width": null,
       "object_fit": null,
       "object_position": null,
       "order": null,
       "overflow": null,
       "overflow_x": null,
       "overflow_y": null,
       "padding": null,
       "right": null,
       "top": null,
       "visibility": null,
       "width": null
      }
     },
     "c9e0f33a15f94bd9991f83ae5f3ed668": {
      "model_module": "@jupyter-widgets/base",
      "model_module_version": "1.2.0",
      "model_name": "LayoutModel",
      "state": {
       "_model_module": "@jupyter-widgets/base",
       "_model_module_version": "1.2.0",
       "_model_name": "LayoutModel",
       "_view_count": null,
       "_view_module": "@jupyter-widgets/base",
       "_view_module_version": "1.2.0",
       "_view_name": "LayoutView",
       "align_content": null,
       "align_items": null,
       "align_self": null,
       "border": null,
       "bottom": null,
       "display": null,
       "flex": null,
       "flex_flow": null,
       "grid_area": null,
       "grid_auto_columns": null,
       "grid_auto_flow": null,
       "grid_auto_rows": null,
       "grid_column": null,
       "grid_gap": null,
       "grid_row": null,
       "grid_template_areas": null,
       "grid_template_columns": null,
       "grid_template_rows": null,
       "height": null,
       "justify_content": null,
       "justify_items": null,
       "left": null,
       "margin": null,
       "max_height": null,
       "max_width": null,
       "min_height": null,
       "min_width": null,
       "object_fit": null,
       "object_position": null,
       "order": null,
       "overflow": null,
       "overflow_x": null,
       "overflow_y": null,
       "padding": null,
       "right": null,
       "top": null,
       "visibility": null,
       "width": null
      }
     },
     "df7bd632ac6c4d84bf4664e0f4dc7f8c": {
      "model_module": "@jupyter-widgets/base",
      "model_module_version": "1.2.0",
      "model_name": "LayoutModel",
      "state": {
       "_model_module": "@jupyter-widgets/base",
       "_model_module_version": "1.2.0",
       "_model_name": "LayoutModel",
       "_view_count": null,
       "_view_module": "@jupyter-widgets/base",
       "_view_module_version": "1.2.0",
       "_view_name": "LayoutView",
       "align_content": null,
       "align_items": null,
       "align_self": null,
       "border": null,
       "bottom": null,
       "display": null,
       "flex": null,
       "flex_flow": null,
       "grid_area": null,
       "grid_auto_columns": null,
       "grid_auto_flow": null,
       "grid_auto_rows": null,
       "grid_column": null,
       "grid_gap": null,
       "grid_row": null,
       "grid_template_areas": null,
       "grid_template_columns": null,
       "grid_template_rows": null,
       "height": null,
       "justify_content": null,
       "justify_items": null,
       "left": null,
       "margin": null,
       "max_height": null,
       "max_width": null,
       "min_height": null,
       "min_width": null,
       "object_fit": null,
       "object_position": null,
       "order": null,
       "overflow": null,
       "overflow_x": null,
       "overflow_y": null,
       "padding": null,
       "right": null,
       "top": null,
       "visibility": null,
       "width": null
      }
     },
     "e8ff65dbd7aa4026abedaa5d3bd07005": {
      "model_module": "@jupyter-widgets/base",
      "model_module_version": "1.2.0",
      "model_name": "LayoutModel",
      "state": {
       "_model_module": "@jupyter-widgets/base",
       "_model_module_version": "1.2.0",
       "_model_name": "LayoutModel",
       "_view_count": null,
       "_view_module": "@jupyter-widgets/base",
       "_view_module_version": "1.2.0",
       "_view_name": "LayoutView",
       "align_content": null,
       "align_items": null,
       "align_self": null,
       "border": null,
       "bottom": null,
       "display": null,
       "flex": null,
       "flex_flow": null,
       "grid_area": null,
       "grid_auto_columns": null,
       "grid_auto_flow": null,
       "grid_auto_rows": null,
       "grid_column": null,
       "grid_gap": null,
       "grid_row": null,
       "grid_template_areas": null,
       "grid_template_columns": null,
       "grid_template_rows": null,
       "height": null,
       "justify_content": null,
       "justify_items": null,
       "left": null,
       "margin": null,
       "max_height": null,
       "max_width": null,
       "min_height": null,
       "min_width": null,
       "object_fit": null,
       "object_position": null,
       "order": null,
       "overflow": null,
       "overflow_x": null,
       "overflow_y": null,
       "padding": null,
       "right": null,
       "top": null,
       "visibility": null,
       "width": null
      }
     },
     "ebd72f50bec7472dbdb163d071f3ff48": {
      "model_module": "@jupyter-widgets/controls",
      "model_module_version": "1.5.0",
      "model_name": "ProgressStyleModel",
      "state": {
       "_model_module": "@jupyter-widgets/controls",
       "_model_module_version": "1.5.0",
       "_model_name": "ProgressStyleModel",
       "_view_count": null,
       "_view_module": "@jupyter-widgets/base",
       "_view_module_version": "1.2.0",
       "_view_name": "StyleView",
       "bar_color": null,
       "description_width": ""
      }
     },
     "f49ebab1f88f4b038d0829d016617f0c": {
      "model_module": "@jupyter-widgets/controls",
      "model_module_version": "1.5.0",
      "model_name": "HTMLModel",
      "state": {
       "_dom_classes": [],
       "_model_module": "@jupyter-widgets/controls",
       "_model_module_version": "1.5.0",
       "_model_name": "HTMLModel",
       "_view_count": null,
       "_view_module": "@jupyter-widgets/controls",
       "_view_module_version": "1.5.0",
       "_view_name": "HTMLView",
       "description": "",
       "description_tooltip": null,
       "layout": "IPY_MODEL_c76f32ce448140fe9aadfaa859e84c74",
       "placeholder": "​",
       "style": "IPY_MODEL_08e90310ed6b46a28442e72dcbee2863",
       "value": " 829/829 [00:00&lt;00:00, 60.3kB/s]"
      }
     }
    },
    "version_major": 2,
    "version_minor": 0
   }
  }
 },
 "nbformat": 4,
 "nbformat_minor": 5
}
